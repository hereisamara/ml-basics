{
  "nbformat": 4,
  "nbformat_minor": 0,
  "metadata": {
    "colab": {
      "provenance": []
    },
    "kernelspec": {
      "name": "python3",
      "display_name": "Python 3"
    },
    "language_info": {
      "name": "python"
    }
  },
  "cells": [
    {
      "cell_type": "markdown",
      "source": [
        "# Loss Functions\n",
        "\n",
        "## Introduction\n",
        "Loss functions are a crucial component of machine learning models. They measure how well a model's predictions align with the actual data. The objective of training a model is to minimize the loss, thereby improving prediction accuracy.\n",
        "\n",
        "There are different types of loss functions, each suited to specific types of problems. This document explores two fundamental loss functions: **Mean Squared Error (MSE)** and **Cross-Entropy Loss**.\n",
        "\n",
        "![image.png](https://sp-ao.shortpixel.ai/client/to_webp,q_glossy,ret_img,w_892,h_669/https://www.evergreeninnovations.co/wp-content/uploads/2019/01/loss_functions.png)\n",
        "---\n",
        "\n",
        "## 1. Mean Squared Error (MSE)\n",
        "\n",
        "### Explanation\n",
        "MSE is widely used in regression problems. It calculates the average squared difference between the predicted values and the actual values. The formula for MSE is:\n",
        "\n",
        "$$\n",
        "MSE = \\frac{1}{n} \\sum_{i=1}^{n} (y_{true}^{(i)} - y_{pred}^{(i)})^2\n",
        "$$\n",
        "\n",
        "Where:\n",
        "- $ y_{true} $ is the actual value\n",
        "- $ y_{pred} $ is the predicted value\n",
        "- $ n $ is the number of samples\n",
        "\n",
        "A lower MSE indicates that the model's predictions are closer to the actual values.\n"
      ],
      "metadata": {
        "id": "0MXkLdY7EGZG"
      }
    },
    {
      "cell_type": "markdown",
      "source": [
        "### Code Implementation\n",
        "#### NumPy Example"
      ],
      "metadata": {
        "id": "1NRbKLjt3huY"
      }
    },
    {
      "cell_type": "code",
      "execution_count": 1,
      "metadata": {
        "colab": {
          "base_uri": "https://localhost:8080/"
        },
        "id": "pNJXSyBbEEqu",
        "outputId": "5ded965e-67b6-47f9-c64d-6cc3adf872fc"
      },
      "outputs": [
        {
          "output_type": "stream",
          "name": "stdout",
          "text": [
            "MSE Loss: 0.375\n"
          ]
        }
      ],
      "source": [
        "import numpy as np\n",
        "\n",
        "def mse_loss(y_true, y_pred):\n",
        "    return np.mean((y_true - y_pred) ** 2)\n",
        "\n",
        "# Example Data\n",
        "y_true = np.array([3, -0.5, 2, 7])\n",
        "y_pred = np.array([2.5, 0.0, 2, 8])\n",
        "\n",
        "mse = mse_loss(y_true, y_pred)\n",
        "print(f\"MSE Loss: {mse}\")"
      ]
    },
    {
      "cell_type": "markdown",
      "source": [
        "#### PyTorch Example\n"
      ],
      "metadata": {
        "id": "FQf2ZwIP3d0B"
      }
    },
    {
      "cell_type": "code",
      "source": [
        "import torch\n",
        "import torch.nn as nn\n",
        "\n",
        "mse_loss_fn = nn.MSELoss()\n",
        "\n",
        "y_true_tensor = torch.tensor([3.0, -0.5, 2.0, 7.0])\n",
        "y_pred_tensor = torch.tensor([2.5, 0.0, 2.0, 8.0])\n",
        "\n",
        "mse_torch = mse_loss_fn(y_pred_tensor, y_true_tensor)\n",
        "print(f\"MSE Loss in PyTorch: {mse_torch.item()}\")"
      ],
      "metadata": {
        "colab": {
          "base_uri": "https://localhost:8080/"
        },
        "id": "gwAXN3Ps3rRQ",
        "outputId": "729ab2f0-2b0b-4a86-cc7f-976c743241df"
      },
      "execution_count": 2,
      "outputs": [
        {
          "output_type": "stream",
          "name": "stdout",
          "text": [
            "MSE Loss in PyTorch: 0.375\n"
          ]
        }
      ]
    },
    {
      "cell_type": "markdown",
      "source": [
        "# Mean Squared Error (MSE) Loss"
      ],
      "metadata": {
        "id": "YO-cdwAh8_ul"
      }
    },
    {
      "cell_type": "code",
      "source": [
        "print(\"\\n### Mean Squared Error (MSE) ###\")\n",
        "def mse_loss(y_true, y_pred):\n",
        "    return np.mean((y_true - y_pred) ** 2)\n",
        "\n",
        "# Example Data\n",
        "y_true = np.array([3, -0.5, 2, 7])\n",
        "y_pred = np.array([2.5, 0.0, 2, 8])\n",
        "\n",
        "mse = mse_loss(y_true, y_pred)\n",
        "print(f\"MSE Loss: {mse}\")\n",
        "\n",
        "# MSE Visualization\n",
        "x = np.linspace(-3, 3, 100)\n",
        "y = x**2  # Quadratic for MSE visualization\n",
        "plt.plot(x, y, label='MSE Loss')\n",
        "plt.xlabel('Prediction Error')\n",
        "plt.ylabel('Loss')\n",
        "plt.title('MSE Loss Function Visualization')\n",
        "plt.legend()\n",
        "plt.show()"
      ],
      "metadata": {
        "colab": {
          "base_uri": "https://localhost:8080/",
          "height": 526
        },
        "id": "ClU02QyL8yMg",
        "outputId": "dd34a5d1-40c8-4115-bd4c-5f8ef9f62730"
      },
      "execution_count": 6,
      "outputs": [
        {
          "output_type": "stream",
          "name": "stdout",
          "text": [
            "\n",
            "### Mean Squared Error (MSE) ###\n",
            "MSE Loss: 0.375\n"
          ]
        },
        {
          "output_type": "display_data",
          "data": {
            "text/plain": [
              "<Figure size 640x480 with 1 Axes>"
            ],
            "image/png": "[encoded data removed]"
          },
          "metadata": {}
        }
      ]
    },
    {
      "cell_type": "markdown",
      "source": [
        "# Mean Absolute Error (MAE) Loss"
      ],
      "metadata": {
        "id": "c7YNyMNN89wJ"
      }
    },
    {
      "cell_type": "code",
      "source": [
        "\n",
        "print(\"\\n### Mean Absolute Error (MAE) ###\")\n",
        "def mae_loss(y_true, y_pred):\n",
        "    return np.mean(np.abs(y_true - y_pred))\n",
        "\n",
        "mae = mae_loss(y_true, y_pred)\n",
        "print(f\"MAE Loss: {mae}\")\n",
        "\n",
        "# MAE Visualization\n",
        "y_mae = np.abs(x)  # Absolute for MAE visualization\n",
        "plt.plot(x, y_mae, label='MAE Loss')\n",
        "plt.xlabel('Prediction Error')\n",
        "plt.ylabel('Loss')\n",
        "plt.title('MAE Loss Function Visualization')\n",
        "plt.legend()\n",
        "plt.show()\n"
      ],
      "metadata": {
        "colab": {
          "base_uri": "https://localhost:8080/",
          "height": 526
        },
        "id": "7EdgnC_a85tg",
        "outputId": "7ae68d25-53ad-4fec-be78-5ca527575db0"
      },
      "execution_count": 7,
      "outputs": [
        {
          "output_type": "stream",
          "name": "stdout",
          "text": [
            "\n",
            "### Mean Absolute Error (MAE) ###\n",
            "MAE Loss: 0.5\n"
          ]
        },
        {
          "output_type": "display_data",
          "data": {
            "text/plain": [
              "<Figure size 640x480 with 1 Axes>"
            ],
            "image/png": "[encoded data removed]"
          },
          "metadata": {}
        }
      ]
    },
    {
      "cell_type": "markdown",
      "source": [
        "\n",
        "---\n",
        "\n",
        "## 2. Cross-Entropy Loss\n",
        "\n",
        "### Explanation\n",
        "Cross-entropy loss is used in classification problems. It measures the dissimilarity between the predicted probability distribution and the true distribution. The formula is:\n",
        "\n",
        "$$\n",
        "CE = - \\sum_{i=1}^{n} y_{true}^{(i)} \\log(y_{pred}^{(i)})\n",
        "$$\n",
        "\n",
        "Where:\n",
        "- $ y_{true} $ is the actual class label (one-hot encoded)\n",
        "- $ y_{pred} $ is the predicted probability\n",
        "\n",
        "Lower cross-entropy loss means the model assigns higher probabilities to the correct classes.\n",
        "\n"
      ],
      "metadata": {
        "id": "FmO6hx733mXi"
      }
    },
    {
      "cell_type": "markdown",
      "source": [
        "### Code Implementation\n",
        "#### NumPy Example"
      ],
      "metadata": {
        "id": "HMmplE6D4AqA"
      }
    },
    {
      "cell_type": "code",
      "source": [
        "def cross_entropy_loss(y_true, y_pred_probs):\n",
        "    return -np.sum(y_true * np.log(y_pred_probs))\n",
        "\n",
        "# Example Data\n",
        "y_true_ce = np.array([0, 1, 0])  # True class (one-hot encoded)\n",
        "y_pred_probs = np.array([0.2, 0.7, 0.1])  # Predicted probabilities\n",
        "\n",
        "cross_entropy = cross_entropy_loss(y_true_ce, y_pred_probs)\n",
        "print(f\"Cross-Entropy Loss: {cross_entropy}\")"
      ],
      "metadata": {
        "colab": {
          "base_uri": "https://localhost:8080/"
        },
        "id": "hOj1elOP3-h1",
        "outputId": "606503ca-e31b-452c-d7c1-3686f880e427"
      },
      "execution_count": 3,
      "outputs": [
        {
          "output_type": "stream",
          "name": "stdout",
          "text": [
            "Cross-Entropy Loss: 0.35667494393873245\n"
          ]
        }
      ]
    },
    {
      "cell_type": "markdown",
      "source": [
        "#### PyTorch Example"
      ],
      "metadata": {
        "id": "2uiRoEVz3wdI"
      }
    },
    {
      "cell_type": "code",
      "source": [
        "cross_entropy_loss_fn = nn.CrossEntropyLoss()\n",
        "\n",
        "y_true_ce_torch = torch.tensor([1])  # Class index\n",
        "y_pred_probs_torch = torch.tensor([[0.2, 0.7, 0.1]])  # Probabilities\n",
        "\n",
        "cross_entropy_torch = cross_entropy_loss_fn(y_pred_probs_torch, y_true_ce_torch)\n",
        "print(f\"Cross-Entropy Loss in PyTorch: {cross_entropy_torch.item()}\")"
      ],
      "metadata": {
        "colab": {
          "base_uri": "https://localhost:8080/"
        },
        "id": "64pJ2zhs37OV",
        "outputId": "e4ff3eb6-efde-4686-d895-53f2070c8b4a"
      },
      "execution_count": 4,
      "outputs": [
        {
          "output_type": "stream",
          "name": "stdout",
          "text": [
            "Cross-Entropy Loss in PyTorch: 0.7679495811462402\n"
          ]
        }
      ]
    },
    {
      "cell_type": "markdown",
      "source": [
        "---\n",
        "\n",
        "## 3. Visualizing Loss Functions\n",
        "To better understand MSE, we can visualize how the loss changes based on prediction error."
      ],
      "metadata": {
        "id": "9LJk6cp330P2"
      }
    },
    {
      "cell_type": "code",
      "source": [
        "import matplotlib.pyplot as plt\n",
        "\n",
        "x = np.linspace(-3, 3, 100)\n",
        "y = x**2  # Quadratic for MSE visualization\n",
        "\n",
        "plt.plot(x, y, label='MSE Loss')\n",
        "plt.xlabel('Prediction Error')\n",
        "plt.ylabel('Loss')\n",
        "plt.title('Loss Function Visualization')\n",
        "plt.legend()\n",
        "plt.show()"
      ],
      "metadata": {
        "colab": {
          "base_uri": "https://localhost:8080/",
          "height": 472
        },
        "id": "9cwDy0rD34TF",
        "outputId": "19b3dec3-34e7-4b78-f026-ca75af912882"
      },
      "execution_count": 5,
      "outputs": [
        {
          "output_type": "display_data",
          "data": {
            "text/plain": [
              "<Figure size 640x480 with 1 Axes>"
            ],
            "image/png": "[encoded data removed]"
          },
          "metadata": {}
        }
      ]
    },
    {
      "cell_type": "markdown",
      "source": [
        "# Backpropagation and Optimization in PyTorch"
      ],
      "metadata": {
        "id": "U_iwuRhQ9WMC"
      }
    },
    {
      "cell_type": "markdown",
      "source": [
        "### Define Linear model with 2 weight and 1 bias"
      ],
      "metadata": {
        "id": "Bi7UarND_SEe"
      }
    },
    {
      "cell_type": "code",
      "source": [
        "import torch\n",
        "import torch.nn as nn\n",
        "import torch.optim as optim\n",
        "from graphviz import Digraph\n",
        "\n",
        "# Define model\n",
        "model = nn.Linear(2, 1)  # Simple linear regression\n",
        "loss_fn = nn.MSELoss()  # MSE for regression\n",
        "optimizer = optim.SGD(model.parameters(), lr=0.01)\n"
      ],
      "metadata": {
        "id": "B-eICzVL_IQM"
      },
      "execution_count": 17,
      "outputs": []
    },
    {
      "cell_type": "markdown",
      "source": [
        "### Visualizing the Model with Graphviz"
      ],
      "metadata": {
        "id": "2inRH3Ez_ZfQ"
      }
    },
    {
      "cell_type": "code",
      "source": [
        "from graphviz import Digraph\n",
        "from IPython.display import display\n",
        "\n",
        "# Create Graphviz Digraph\n",
        "dot = Digraph(format='png')\n",
        "dot.attr(size='6', rankdir='TB')\n",
        "\n",
        "# Adding nodes\n",
        "dot.node('X1', 'Input X1')\n",
        "dot.node('X2', 'Input X2')\n",
        "dot.node('Linear', 'Linear Layer\\n(y = w1*x1 + w2*x2 + b)')\n",
        "dot.node('Y_hat', 'Predicted Output (ŷ)')\n",
        "dot.node('Loss', 'Loss Function\\n(MSE)')\n",
        "dot.node('Optimizer', 'Optimizer\\n(SGD)')\n",
        "\n",
        "# Connecting nodes with descriptions\n",
        "dot.edge('X1', 'Linear', label='Input Feature 1')\n",
        "dot.edge('X2', 'Linear', label='Input Feature 2')\n",
        "dot.edge('Linear', 'Y_hat', label='Forward Pass\\n(model(x))')\n",
        "dot.edge('Y_hat', 'Loss', label='Compute Loss\\n(loss_fn(y_hat, y_true))')\n",
        "\n",
        "# Highlighting backward pass and weight updates\n",
        "dot.edge('Loss', 'Linear', label='Compute Gradients\\n(loss.backward())', color='red')\n",
        "dot.edge('Loss', 'Optimizer', label='Pass Gradients to Optimizer')\n",
        "dot.edge('Optimizer', 'Linear', label='Update Weights\\n(optimizer.step())', color='blue')\n",
        "\n",
        "# Render and display the model diagram\n",
        "dot.render('linear_model', format='png', cleanup=False)\n",
        "display(dot)\n"
      ],
      "metadata": {
        "colab": {
          "base_uri": "https://localhost:8080/",
          "height": 597
        },
        "id": "hfu4JhK1_YWh",
        "outputId": "eb9942af-c9fb-4288-bf9a-f558924aefaf"
      },
      "execution_count": 19,
      "outputs": [
        {
          "output_type": "display_data",
          "data": {
            "image/svg+xml": "<?xml version=\"1.0\" encoding=\"UTF-8\" standalone=\"no\"?>\n<!DOCTYPE svg PUBLIC \"-//W3C//DTD SVG 1.1//EN\"\n \"http://www.w3.org/Graphics/SVG/1.1/DTD/svg11.dtd\">\n<!-- Generated by graphviz version 2.43.0 (0)\n -->\n<!-- Title: %3 Pages: 1 -->\n<svg width=\"419pt\" height=\"432pt\"\n viewBox=\"0.00 0.00 419.25 432.00\" xmlns=\"http://www.w3.org/2000/svg\" xmlns:xlink=\"http://www.w3.org/1999/xlink\">\n<g id=\"graph0\" class=\"graph\" transform=\"scale(0.91 0.91) rotate(0) translate(4 471.22)\">\n<title>%3</title>\n<polygon fill=\"white\" stroke=\"transparent\" points=\"-4,4 -4,-471.22 457.19,-471.22 457.19,4 -4,4\"/>\n<!-- X1 -->\n<g id=\"node1\" class=\"node\">\n<title>X1</title>\n<ellipse fill=\"none\" stroke=\"black\" cx=\"162.19\" cy=\"-449.22\" rx=\"42.49\" ry=\"18\"/>\n<text text-anchor=\"middle\" x=\"162.19\" y=\"-445.52\" font-family=\"Times,serif\" font-size=\"14.00\">Input X1</text>\n</g>\n<!-- Linear -->\n<g id=\"node3\" class=\"node\">\n<title>Linear</title>\n<ellipse fill=\"none\" stroke=\"black\" cx=\"215.19\" cy=\"-353.35\" rx=\"113.27\" ry=\"26.74\"/>\n<text text-anchor=\"middle\" x=\"215.19\" y=\"-357.15\" font-family=\"Times,serif\" font-size=\"14.00\">Linear Layer</text>\n<text text-anchor=\"middle\" x=\"215.19\" y=\"-342.15\" font-family=\"Times,serif\" font-size=\"14.00\">(y = w1*x1 + w2*x2 + b)</text>\n</g>\n<!-- X1&#45;&gt;Linear -->\n<g id=\"edge1\" class=\"edge\">\n<title>X1&#45;&gt;Linear</title>\n<path fill=\"none\" stroke=\"black\" d=\"M159.15,-431.21C158.15,-421.14 158.33,-408.41 163.19,-398.22 165.19,-394.03 167.8,-390.09 170.79,-386.43\"/>\n<polygon fill=\"black\" stroke=\"black\" points=\"173.59,-388.55 177.84,-378.85 168.47,-383.78 173.59,-388.55\"/>\n<text text-anchor=\"middle\" x=\"205.19\" y=\"-402.02\" font-family=\"Times,serif\" font-size=\"14.00\">Input Feature 1</text>\n</g>\n<!-- X2 -->\n<g id=\"node2\" class=\"node\">\n<title>X2</title>\n<ellipse fill=\"none\" stroke=\"black\" cx=\"269.19\" cy=\"-449.22\" rx=\"42.49\" ry=\"18\"/>\n<text text-anchor=\"middle\" x=\"269.19\" y=\"-445.52\" font-family=\"Times,serif\" font-size=\"14.00\">Input X2</text>\n</g>\n<!-- X2&#45;&gt;Linear -->\n<g id=\"edge2\" class=\"edge\">\n<title>X2&#45;&gt;Linear</title>\n<path fill=\"none\" stroke=\"black\" d=\"M262.73,-431.11C258.75,-421.24 253.25,-408.74 247.19,-398.22 245.34,-395.01 243.31,-391.75 241.19,-388.53\"/>\n<polygon fill=\"black\" stroke=\"black\" points=\"243.99,-386.43 235.44,-380.18 238.22,-390.4 243.99,-386.43\"/>\n<text text-anchor=\"middle\" x=\"296.19\" y=\"-402.02\" font-family=\"Times,serif\" font-size=\"14.00\">Input Feature 2</text>\n</g>\n<!-- Y_hat -->\n<g id=\"node4\" class=\"node\">\n<title>Y_hat</title>\n<ellipse fill=\"none\" stroke=\"black\" cx=\"83.19\" cy=\"-242.48\" rx=\"83.39\" ry=\"18\"/>\n<text text-anchor=\"middle\" x=\"83.19\" y=\"-238.78\" font-family=\"Times,serif\" font-size=\"14.00\">Predicted Output (ŷ)</text>\n</g>\n<!-- Linear&#45;&gt;Y_hat -->\n<g id=\"edge3\" class=\"edge\">\n<title>Linear&#45;&gt;Y_hat</title>\n<path fill=\"none\" stroke=\"black\" d=\"M158.95,-329.73C147.75,-323.78 136.57,-316.69 127.19,-308.48 114.73,-297.57 104.19,-282.38 96.55,-269.42\"/>\n<polygon fill=\"black\" stroke=\"black\" points=\"99.47,-267.47 91.51,-260.47 93.37,-270.91 99.47,-267.47\"/>\n<text text-anchor=\"middle\" x=\"164.19\" y=\"-297.28\" font-family=\"Times,serif\" font-size=\"14.00\">Forward Pass</text>\n<text text-anchor=\"middle\" x=\"164.19\" y=\"-282.28\" font-family=\"Times,serif\" font-size=\"14.00\">(model(x))</text>\n</g>\n<!-- Loss -->\n<g id=\"node5\" class=\"node\">\n<title>Loss</title>\n<ellipse fill=\"none\" stroke=\"black\" cx=\"181.19\" cy=\"-131.61\" rx=\"66.44\" ry=\"26.74\"/>\n<text text-anchor=\"middle\" x=\"181.19\" y=\"-135.41\" font-family=\"Times,serif\" font-size=\"14.00\">Loss Function</text>\n<text text-anchor=\"middle\" x=\"181.19\" y=\"-120.41\" font-family=\"Times,serif\" font-size=\"14.00\">(MSE)</text>\n</g>\n<!-- Y_hat&#45;&gt;Loss -->\n<g id=\"edge4\" class=\"edge\">\n<title>Y_hat&#45;&gt;Loss</title>\n<path fill=\"none\" stroke=\"black\" d=\"M73.63,-224.32C67.24,-210.33 61.6,-190.63 71.19,-176.48 80.65,-162.53 95.33,-153.01 110.92,-146.52\"/>\n<polygon fill=\"black\" stroke=\"black\" points=\"112.57,-149.64 120.71,-142.86 110.11,-143.09 112.57,-149.64\"/>\n<text text-anchor=\"middle\" x=\"136.19\" y=\"-195.28\" font-family=\"Times,serif\" font-size=\"14.00\">Compute Loss</text>\n<text text-anchor=\"middle\" x=\"136.19\" y=\"-180.28\" font-family=\"Times,serif\" font-size=\"14.00\">(loss_fn(y_hat, y_true))</text>\n</g>\n<!-- Loss&#45;&gt;Linear -->\n<g id=\"edge5\" class=\"edge\">\n<title>Loss&#45;&gt;Linear</title>\n<path fill=\"none\" stroke=\"red\" d=\"M194.58,-158.04C197.19,-163.95 199.6,-170.32 201.19,-176.48 213.43,-223.71 215.86,-280.25 215.95,-316.23\"/>\n<polygon fill=\"red\" stroke=\"red\" points=\"212.45,-316.24 215.91,-326.26 219.45,-316.27 212.45,-316.24\"/>\n<text text-anchor=\"middle\" x=\"266.69\" y=\"-246.28\" font-family=\"Times,serif\" font-size=\"14.00\">Compute Gradients</text>\n<text text-anchor=\"middle\" x=\"266.69\" y=\"-231.28\" font-family=\"Times,serif\" font-size=\"14.00\">(loss.backward())</text>\n</g>\n<!-- Optimizer -->\n<g id=\"node6\" class=\"node\">\n<title>Optimizer</title>\n<ellipse fill=\"none\" stroke=\"black\" cx=\"265.19\" cy=\"-26.87\" rx=\"50.82\" ry=\"26.74\"/>\n<text text-anchor=\"middle\" x=\"265.19\" y=\"-30.67\" font-family=\"Times,serif\" font-size=\"14.00\">Optimizer</text>\n<text text-anchor=\"middle\" x=\"265.19\" y=\"-15.67\" font-family=\"Times,serif\" font-size=\"14.00\">(SGD)</text>\n</g>\n<!-- Loss&#45;&gt;Optimizer -->\n<g id=\"edge6\" class=\"edge\">\n<title>Loss&#45;&gt;Optimizer</title>\n<path fill=\"none\" stroke=\"black\" d=\"M176.08,-104.65C175.28,-93.76 176.25,-81.41 182.19,-71.74 189.19,-60.34 200.24,-51.74 212.01,-45.32\"/>\n<polygon fill=\"black\" stroke=\"black\" points=\"213.69,-48.39 221.1,-40.82 210.59,-42.12 213.69,-48.39\"/>\n<text text-anchor=\"middle\" x=\"259.19\" y=\"-75.54\" font-family=\"Times,serif\" font-size=\"14.00\">Pass Gradients to Optimizer</text>\n</g>\n<!-- Optimizer&#45;&gt;Linear -->\n<g id=\"edge7\" class=\"edge\">\n<title>Optimizer&#45;&gt;Linear</title>\n<path fill=\"none\" stroke=\"blue\" d=\"M305.42,-43.41C317.5,-50.19 329.35,-59.46 336.19,-71.74 377.13,-145.15 362.24,-185.53 324.19,-260.48 311.28,-285.92 287.9,-307.08 266.09,-322.65\"/>\n<polygon fill=\"blue\" stroke=\"blue\" points=\"264.08,-319.78 257.83,-328.34 268.05,-325.55 264.08,-319.78\"/>\n<text text-anchor=\"middle\" x=\"405.19\" y=\"-195.28\" font-family=\"Times,serif\" font-size=\"14.00\">Update Weights</text>\n<text text-anchor=\"middle\" x=\"405.19\" y=\"-180.28\" font-family=\"Times,serif\" font-size=\"14.00\">(optimizer.step())</text>\n</g>\n</g>\n</svg>\n",
            "text/plain": [
              "<graphviz.graphs.Digraph at 0x7f41d3309410>"
            ]
          },
          "metadata": {}
        }
      ]
    },
    {
      "cell_type": "code",
      "source": [
        "# Sample Data\n",
        "x_tensor = torch.tensor([[1.0, 2.0], [3.0, 4.0]])\n",
        "y_true_tensor = torch.tensor([[5.0], [9.0]])\n"
      ],
      "metadata": {
        "id": "v0hXS8nS9U4H"
      },
      "execution_count": 20,
      "outputs": []
    },
    {
      "cell_type": "markdown",
      "source": [
        "### Loss functions and Gradient Computing in model training process"
      ],
      "metadata": {
        "id": "m1rY47L8ALEF"
      }
    },
    {
      "cell_type": "code",
      "source": [
        "# Forward Pass\n",
        "y_pred_tensor = model(x_tensor)\n",
        "\n",
        "# Compute Loss\n",
        "loss = loss_fn(y_pred_tensor, y_true_tensor)\n",
        "print(f\"Initial Loss: {loss.item()}\")\n",
        "\n",
        "# Backpropagation and Optimization Step\n",
        "loss.backward()  # Compute gradients\n",
        "optimizer.step()  # Update model parameters\n",
        "\n",
        "# Check Updated Parameters\n",
        "print(\"Updated Parameters:\")\n",
        "for name, param in model.named_parameters():\n",
        "    print(\"\\t\", name, param.data)\n",
        "\n",
        "# Forward Pass After Update\n",
        "y_pred_tensor = model(x_tensor)\n",
        "\n",
        "# Compute New Loss\n",
        "loss = loss_fn(y_pred_tensor, y_true_tensor)\n",
        "print(f\"Final Loss: {loss.item()}\")\n",
        "\n",
        "# Reset Gradients\n",
        "optimizer.zero_grad()"
      ],
      "metadata": {
        "colab": {
          "base_uri": "https://localhost:8080/"
        },
        "id": "JCyxdjtXAKCi",
        "outputId": "4267c599-4611-461d-d81c-37fdc6388aac"
      },
      "execution_count": 21,
      "outputs": [
        {
          "output_type": "stream",
          "name": "stdout",
          "text": [
            "Initial Loss: 51.554840087890625\n",
            "Updated Parameters:\n",
            "\t weight tensor([[0.4443, 0.3727]])\n",
            "\t bias tensor([0.2133])\n",
            "Final Loss: 24.245994567871094\n"
          ]
        }
      ]
    },
    {
      "cell_type": "markdown",
      "source": [
        "# Loss Functions in Machine Learning\n",
        "\n",
        "Loss functions are an essential part of machine learning, designed to measure how well a model's predictions match the true values. Different loss functions are used based on the type of problem being solved. Below are some of the most commonly used loss functions, categorized by task.\n",
        "\n",
        "---\n",
        "\n",
        "## 1. Regression Loss Functions\n",
        "Used when predicting continuous values.\n",
        "\n",
        "### **Mean Squared Error (MSE)**\n",
        "$$\n",
        "MSE = \\frac{1}{n} \\sum_{i=1}^{n} (y_{true}^{(i)} - y_{pred}^{(i)})^2\n",
        "$$\n",
        "- Penalizes large errors more due to squaring.\n",
        "- Suitable for normally distributed errors.\n",
        "\n",
        "### **Mean Absolute Error (MAE)**\n",
        "$$\n",
        "MAE = \\frac{1}{n} \\sum_{i=1}^{n} |y_{true}^{(i)} - y_{pred}^{(i)}|\n",
        "$$\n",
        "- Gives equal weight to all errors.\n",
        "- Less sensitive to outliers than MSE.\n",
        "\n",
        "### **Huber Loss**\n",
        "- Combines MSE and MAE: behaves like MSE for small errors, MAE for large errors.\n",
        "- Robust to outliers.\n",
        "\n",
        "### **Log-Cosh Loss**\n",
        "$$\n",
        "\\sum \\log(\\cosh(y_{pred} - y_{true}))\n",
        "$$\n",
        "- Similar to Huber but smooths out large errors more gradually.\n",
        "\n",
        "---\n",
        "\n",
        "## 2. Classification Loss Functions\n",
        "Used when predicting discrete class labels.\n",
        "\n",
        "### **Cross-Entropy Loss (for multi-class classification)**\n",
        "$$\n",
        "CE = - \\sum y_{true} \\log(y_{pred})\n",
        "$$\n",
        "- Encourages high confidence in correct class predictions.\n",
        "- Used in Softmax-based classification.\n",
        "\n",
        "### **Binary Cross-Entropy (Log Loss) (for binary classification)**\n",
        "$$\n",
        "BCE = - \\frac{1}{n} \\sum \\left[y \\log(\\hat{y}) + (1 - y) \\log(1 - \\hat{y})\\right]\n",
        "$$\n",
        "- Used for two-class problems with a Sigmoid activation function.\n",
        "\n",
        "### **Categorical Cross-Entropy** (One-hot encoded labels)\n",
        "### **Sparse Categorical Cross-Entropy** (Integer class labels)\n",
        "\n",
        "---\n",
        "\n",
        "## 3. Ranking Loss Functions\n",
        "Used in ranking problems like recommendation systems.\n",
        "\n",
        "### **Hinge Loss (for SVMs)**\n",
        "$$\n",
        "\\sum \\max(0, 1 - y_{true} \\cdot y_{pred})\n",
        "$$\n",
        "- Used for Support Vector Machines (SVMs).\n",
        "\n",
        "### **Contrastive Loss**\n",
        "- Measures similarity between pairs of samples. Used in Siamese networks.\n",
        "\n",
        "### **Triplet Loss**\n",
        "- Used in Face Recognition (e.g., FaceNet).\n",
        "\n",
        "---\n",
        "\n",
        "## 4. Specialized Loss Functions\n",
        "For specific applications.\n",
        "\n",
        "### **Kullback-Leibler Divergence (KL-Divergence)**\n",
        "- Measures how different two probability distributions are.\n",
        "- Used in Variational Autoencoders (VAEs).\n",
        "\n",
        "### **Dice Loss**\n",
        "- Used in image segmentation tasks to measure overlap between predicted and ground-truth regions.\n",
        "\n",
        "### **IoU Loss (Intersection over Union Loss)**\n",
        "- Used in object detection to measure how well predicted bounding boxes overlap with actual objects.\n",
        "\n",
        "---\n",
        "\n",
        "## **Which Loss Function Should You Use?**\n",
        "- **Regression →** MSE, MAE, Huber, Log-Cosh\n",
        "- **Binary Classification →** Binary Cross-Entropy\n",
        "- **Multi-Class Classification →** Cross-Entropy\n",
        "- **SVMs →** Hinge Loss\n",
        "- **Reinforcement Learning →** KL-Divergence\n",
        "\n"
      ],
      "metadata": {
        "id": "aOjfQemP-jff"
      }
    },
    {
      "cell_type": "markdown",
      "source": [
        "# Self-Learning Loss Functions (Meta-Learning Loss)\n",
        "\n",
        "## **🧠 Idea: Learning Loss Functions Instead of Defining Them**\n",
        "Instead of manually designing a loss function, we train a **meta-network** (a neural network) to **learn the best loss function** for a given task. This approach is part of **meta-learning (learning to learn)** and **reinforcement learning-based loss optimization**.\n",
        "\n",
        "---\n",
        "\n",
        "## **📌 Steps to Implement**\n",
        "1. **Train a base model** (e.g., a simple classifier or regressor).\n",
        "2. **Use a meta-network** to generate the loss function dynamically.\n",
        "3. **Optimize the base model** using the meta-network instead of a predefined loss.\n",
        "4. **Train the meta-network** to minimize actual task loss over multiple episodes (meta-learning).\n",
        "\n",
        "---"
      ],
      "metadata": {
        "id": "KPLPCTEkD8yw"
      }
    },
    {
      "cell_type": "markdown",
      "source": [
        "## **🔧 Code Implementation**\n",
        "### **1️⃣ Define the Base Model** (A simple regression model)\n"
      ],
      "metadata": {
        "id": "LvYxNBbrECKD"
      }
    },
    {
      "cell_type": "code",
      "source": [
        "import torch\n",
        "import torch.nn as nn\n",
        "import torch.optim as optim\n",
        "\n",
        "class BaseModel(nn.Module):\n",
        "    def __init__(self):\n",
        "        super(BaseModel, self).__init__()\n",
        "        self.fc = nn.Linear(1, 1)  # Simple Linear Model: y = wx + b\n",
        "\n",
        "    def forward(self, x):\n",
        "        return self.fc(x)"
      ],
      "metadata": {
        "id": "4CCHCRjtEEAD"
      },
      "execution_count": 22,
      "outputs": []
    },
    {
      "cell_type": "markdown",
      "source": [
        "### **2️⃣ Define the Meta-Loss Network** (Learns the loss function)\n",
        "- The MetaLossNetwork is a meta-learning approach where a neural network learns to generate an optimal loss function instead of using a manually defined loss like MSE or Cross-Entropy.\n",
        "\n",
        "### 🛠️ How Does MetaLossNetwork Work?\n",
        "1. The Base Model (e.g., a neural network for regression or classification) generates predictions.\n",
        "2. Instead of computing the loss using MSE or Cross-Entropy, the MetaLossNetwork takes in both true values and predicted values.\n",
        "3. The MetaLossNetwork learns to output an appropriate loss dynamically.\n",
        "4. The MetaLossNetwork itself is trained alongside the base model, evolving over time to provide better loss evaluations.\n"
      ],
      "metadata": {
        "id": "Dy9Otdy1EHlo"
      }
    },
    {
      "cell_type": "code",
      "source": [
        "class MetaLossNetwork(nn.Module):\n",
        "    def __init__(self):\n",
        "        super(MetaLossNetwork, self).__init__()\n",
        "        self.fc1 = nn.Linear(2, 10)  # Takes input: (y_true, y_pred)\n",
        "        self.fc2 = nn.Linear(10, 1)  # Outputs: Loss value\n",
        "\n",
        "    def forward(self, y_true, y_pred):\n",
        "        x = torch.cat((y_true, y_pred), dim=1)  # Concatenate inputs\n",
        "        x = torch.relu(self.fc1(x))\n",
        "        loss = torch.sigmoid(self.fc2(x))  # Ensure positive loss\n",
        "        return loss.mean()  # Return a single loss value"
      ],
      "metadata": {
        "id": "Z1ozBHOVEJk_"
      },
      "execution_count": 23,
      "outputs": []
    },
    {
      "cell_type": "markdown",
      "source": [
        "### **3️⃣ Training Process**\n"
      ],
      "metadata": {
        "id": "to9QdF4XEbRs"
      }
    },
    {
      "cell_type": "code",
      "source": [
        "device = torch.device(\"cuda\" if torch.cuda.is_available() else \"cpu\")\n",
        "\n",
        "base_model = BaseModel().to(device)\n",
        "meta_loss_net = MetaLossNetwork().to(device)\n",
        "\n",
        "optimizer_base = optim.SGD(base_model.parameters(), lr=0.01)\n",
        "optimizer_meta = optim.Adam(meta_loss_net.parameters(), lr=0.001)\n",
        "\n",
        "# Generate synthetic regression data\n",
        "x_train = torch.rand(100, 1).to(device) * 10\n",
        "y_train = 3 * x_train + 2 + torch.randn_like(x_train)  # y = 3x + 2 + noise\n",
        "\n",
        "# Training loop\n",
        "for epoch in range(500):\n",
        "    optimizer_base.zero_grad()\n",
        "    optimizer_meta.zero_grad()\n",
        "\n",
        "    # Forward pass through base model\n",
        "    y_pred = base_model(x_train)\n",
        "\n",
        "    # Compute loss using Meta-Loss Network\n",
        "    loss = meta_loss_net(y_train, y_pred)\n",
        "\n",
        "    # Backpropagation\n",
        "    loss.backward()\n",
        "    optimizer_base.step()\n",
        "    optimizer_meta.step()\n",
        "\n",
        "    if epoch % 50 == 0:\n",
        "        print(f\"Epoch {epoch}: Meta-Loss = {loss.item()}\")\n",
        "\n",
        "print(\"Training completed.\")"
      ],
      "metadata": {
        "colab": {
          "base_uri": "https://localhost:8080/"
        },
        "id": "22UXTW3EEddG",
        "outputId": "0eaafd03-a1c2-4f45-b729-495f42d53bed"
      },
      "execution_count": 24,
      "outputs": [
        {
          "output_type": "stream",
          "name": "stdout",
          "text": [
            "Epoch 0: Meta-Loss = 0.8610458970069885\n",
            "Epoch 50: Meta-Loss = 0.1964418590068817\n",
            "Epoch 100: Meta-Loss = 0.07531656324863434\n",
            "Epoch 150: Meta-Loss = 0.0499042272567749\n",
            "Epoch 200: Meta-Loss = 0.036916326731443405\n",
            "Epoch 250: Meta-Loss = 0.028839416801929474\n",
            "Epoch 300: Meta-Loss = 0.023327015340328217\n",
            "Epoch 350: Meta-Loss = 0.019341036677360535\n",
            "Epoch 400: Meta-Loss = 0.016340268775820732\n",
            "Epoch 450: Meta-Loss = 0.014012107625603676\n",
            "Training completed.\n"
          ]
        }
      ]
    },
    {
      "cell_type": "markdown",
      "source": [
        "### Inspect Meta-Loss Parameters\n",
        "After training the MetaLossNetwork, use the following code to print its weights and biases."
      ],
      "metadata": {
        "id": "UdYR8YpDFLIs"
      }
    },
    {
      "cell_type": "code",
      "source": [
        "# Print all parameters (weights & biases) of the MetaLossNetwork\n",
        "print(\"\\n🔍 Final Meta-Loss Network Parameters:\")\n",
        "for name, param in meta_loss_net.named_parameters():\n",
        "    print(f\"{name}: {param.data}\")\n"
      ],
      "metadata": {
        "colab": {
          "base_uri": "https://localhost:8080/"
        },
        "id": "bEIW9nHAFIBR",
        "outputId": "94b42bab-9d22-48ff-ecc9-1bb4c07b9846"
      },
      "execution_count": 25,
      "outputs": [
        {
          "output_type": "stream",
          "name": "stdout",
          "text": [
            "\n",
            "🔍 Final Meta-Loss Network Parameters:\n",
            "fc1.weight: tensor([[ 0.5119,  0.2833],\n",
            "        [-0.6655,  0.0561],\n",
            "        [-0.2302, -0.1579],\n",
            "        [-0.0082, -0.3986],\n",
            "        [ 0.3659,  0.7325],\n",
            "        [ 0.8910, -0.5093],\n",
            "        [-0.6750,  0.5640],\n",
            "        [ 0.4782,  0.4063],\n",
            "        [-0.5949, -0.1148],\n",
            "        [ 0.3144, -0.7258]])\n",
            "fc1.bias: tensor([ 0.6364, -0.2527, -0.1717,  0.1233,  0.1016,  0.0817, -0.5433, -0.0910,\n",
            "         0.1420,  0.1230])\n",
            "fc2.weight: tensor([[-0.4276,  0.1624,  0.0659,  0.1273,  0.0162, -0.1431, -0.1537,  0.1535,\n",
            "          0.0193, -0.3667]])\n",
            "fc2.bias: tensor([-0.0550])\n"
          ]
        }
      ]
    },
    {
      "cell_type": "markdown",
      "source": [
        "### Check How the Learned Loss Behaves\n",
        "After training, you might want to test how the learned loss function behaves with new inputs."
      ],
      "metadata": {
        "id": "egEDrrvxFTC0"
      }
    },
    {
      "cell_type": "code",
      "source": [
        "# Generate test data\n",
        "x_test = torch.tensor([[5.0], [10.0]])  # Example inputs\n",
        "y_test = 3 * x_test + 2  # True values\n",
        "y_pred_test = base_model(x_test)  # Get predictions from trained model\n",
        "\n",
        "# Compute loss using learned MetaLossNetwork\n",
        "learned_loss = meta_loss_net(y_test, y_pred_test)\n",
        "print(f\"\\n🔍 Final Loss on Test Data: {learned_loss.item()}\")\n"
      ],
      "metadata": {
        "colab": {
          "base_uri": "https://localhost:8080/"
        },
        "id": "LZw6taV0FUkw",
        "outputId": "f9039973-cd35-400b-bb61-1a33046df278"
      },
      "execution_count": 26,
      "outputs": [
        {
          "output_type": "stream",
          "name": "stdout",
          "text": [
            "\n",
            "🔍 Final Loss on Test Data: 0.0002750982530415058\n"
          ]
        }
      ]
    },
    {
      "cell_type": "markdown",
      "source": [
        "### Extract Loss Function Parameters & Visualize the Formula"
      ],
      "metadata": {
        "id": "-bRLPZl3HQna"
      }
    },
    {
      "cell_type": "code",
      "source": [
        "import torch\n",
        "import torch.nn as nn\n",
        "\n",
        "# Load the trained model (Assume trained model is available)\n",
        "device = torch.device(\"cuda\" if torch.cuda.is_available() else \"cpu\")\n",
        "meta_loss_net = MetaLossNetwork().to(device)\n",
        "\n",
        "# Extract learned parameters\n",
        "weights_fc1 = meta_loss_net.fc1.weight.data.cpu().numpy()\n",
        "bias_fc1 = meta_loss_net.fc1.bias.data.cpu().numpy()\n",
        "weights_fc2 = meta_loss_net.fc2.weight.data.cpu().numpy()\n",
        "bias_fc2 = meta_loss_net.fc2.bias.data.cpu().numpy()\n",
        "\n",
        "# Generate LaTeX formula\n",
        "def generate_latex_formula(weights_fc1, bias_fc1, weights_fc2, bias_fc2):\n",
        "    latex_formula = r\"L = \\sigma(\"\n",
        "    hidden_layers = []\n",
        "\n",
        "    for i in range(weights_fc1.shape[0]):  # Iterate over hidden neurons\n",
        "        terms = []\n",
        "        terms.append(f\"{weights_fc1[i, 0]:.2f} y_{{true}}\")\n",
        "        terms.append(f\"{weights_fc1[i, 1]:.2f} y_{{pred}}\")\n",
        "        terms.append(f\"{bias_fc1[i]:.2f}\")\n",
        "        hidden_layers.append(f\"\\\\max(0, {' + '.join(terms)})\")  # Apply ReLU\n",
        "\n",
        "    hidden_layers_str = \" + \".join(hidden_layers)\n",
        "    output_layer = f\"{weights_fc2[0, 0]:.2f} h_1 + {weights_fc2[0, 1]:.2f} h_2 + ... + {weights_fc2[0, -1]:.2f} h_{{10}} + {bias_fc2[0]:.2f}\"\n",
        "\n",
        "    latex_formula += hidden_layers_str + r\")\"\n",
        "    latex_formula += f\" = \\\\sigma({output_layer})\"\n",
        "\n",
        "    return latex_formula\n",
        "\n",
        "# Generate the LaTeX loss function\n",
        "latex_formula = generate_latex_formula(weights_fc1, bias_fc1, weights_fc2, bias_fc2)\n",
        "\n",
        "latex_formula"
      ],
      "metadata": {
        "colab": {
          "base_uri": "https://localhost:8080/",
          "height": 89
        },
        "id": "9BSC8kBuF-1v",
        "outputId": "0ba672e8-a2f2-4e1e-cf47-06e56b59704c"
      },
      "execution_count": 38,
      "outputs": [
        {
          "output_type": "execute_result",
          "data": {
            "text/plain": [
              "'L = \\\\sigma(\\\\max(0, -0.51 y_{true} + 0.56 y_{pred} + 0.70) + \\\\max(0, 0.55 y_{true} + -0.32 y_{pred} + -0.52) + \\\\max(0, -0.04 y_{true} + 0.47 y_{pred} + 0.48) + \\\\max(0, 0.69 y_{true} + -0.37 y_{pred} + -0.11) + \\\\max(0, -0.43 y_{true} + 0.40 y_{pred} + -0.28) + \\\\max(0, 0.06 y_{true} + -0.48 y_{pred} + -0.54) + \\\\max(0, -0.25 y_{true} + -0.49 y_{pred} + -0.67) + \\\\max(0, 0.48 y_{true} + 0.70 y_{pred} + -0.08) + \\\\max(0, -0.10 y_{true} + -0.02 y_{pred} + 0.51) + \\\\max(0, 0.36 y_{true} + 0.21 y_{pred} + -0.21)) = \\\\sigma(0.23 h_1 + 0.21 h_2 + ... + -0.26 h_{10} + -0.04)'"
            ],
            "application/vnd.google.colaboratory.intrinsic+json": {
              "type": "string"
            }
          },
          "metadata": {},
          "execution_count": 38
        }
      ]
    },
    {
      "cell_type": "markdown",
      "source": [
        "$$\n",
        "L = \\sigma(\\max(0, -0.51 y_{true} + 0.56 y_{pred} + 0.70) + \\max(0, 0.55 y_{true} + -0.32 y_{pred} + -0.52) + \\max(0, -0.04 y_{true} + 0.47 y_{pred} + 0.48) + \\max(0, 0.69 y_{true} + -0.37 y_{pred} + -0.11) + \\max(0, -0.43 y_{true} + 0.40 y_{pred} + -0.28) + \\max(0, 0.06 y_{true} + -0.48 y_{pred} + -0.54) + \\max(0, -0.25 y_{true} + -0.49 y_{pred} + -0.67) + \\max(0, 0.48 y_{true} + 0.70 y_{pred} + -0.08) + \\max(0, -0.10 y_{true} + -0.02 y_{pred} + 0.51) + \\max(0, 0.36 y_{true} + 0.21 y_{pred} + -0.21)) = \\sigma(0.23 h_1 + 0.21 h_2 + ... + -0.26 h_{10} + -0.04)\n",
        "$$"
      ],
      "metadata": {
        "id": "N0f_dEjlHEN6"
      }
    },
    {
      "cell_type": "markdown",
      "source": [
        "\n",
        "---\n",
        "\n",
        "## **🔍 How It Works**\n",
        "### **1️⃣ Base Model:**\n",
        "- A simple **linear regression model**: $ y = w \\cdot x + b $.\n",
        "\n",
        "### **2️⃣ Meta-Loss Network:**\n",
        "- **Learns the loss function** instead of using MSE or MAE.\n",
        "- Takes in $ y_{true} $ and $ y_{pred} $ and **predicts** the loss value.\n",
        "- Uses **a small neural network** to **learn the best loss function** dynamically.\n",
        "\n",
        "### **3️⃣ Training Process:**\n",
        "- Instead of **MSE**, we **use the meta-loss network to compute the loss**.\n",
        "- Both the **base model** and the **meta-loss model** are trained together.\n",
        "- Over time, the meta-network **discovers the best loss formulation** for the problem.\n",
        "\n",
        "---\n",
        "\n",
        "## **🚀 Why This is Good?**\n",
        "✅ **Customizable loss functions**: Learns an optimal loss function **without human intervention**.  \n",
        "✅ **AutoML capability**: Can be used in **self-optimizing models**.  \n",
        "✅ **Adapts to the data**: Instead of assuming a loss function (MSE, MAE, etc.), it **discovers the best one dynamically**.  \n",
        "\n",
        "---\n",
        "\n",
        "## **🛠️ Advanced Applications**\n",
        "1. **Neural Architecture Search (NAS)** → Meta-learning helps in discovering **the best loss functions** for model search.  \n",
        "2. **Reinforcement Learning** → Instead of predefined reward functions, AI **learns its own loss function**.  \n",
        "3. **Self-Driving Cars** → Loss functions that evolve based on real-world driving data.  \n",
        "4. **Medical AI** → AI can **adjust loss functions** dynamically based on **disease progression**.  \n"
      ],
      "metadata": {
        "id": "yjNpp09rD5uU"
      }
    },
    {
      "cell_type": "markdown",
      "source": [
        "# ✅ Key Rules for a Self-Learning Loss Function\n",
        "\n",
        "To ensure the learned loss function is **useful, generalizable, and does not simply memorize data**, we apply these **five key rules**:\n",
        "\n",
        "---\n",
        "\n",
        "## **1️⃣ Regularization on the Loss Function Itself**\n",
        "**📌 Why?** To prevent the loss function from overfitting by assigning extreme weights to certain cases.\n",
        "\n",
        "✅ **Solution:** Add **L1/L2 regularization** to loss parameters:\n",
        "\n",
        "$$\n",
        "L_{meta} = L_{data} + \\lambda ||W_{meta}||^2\n",
        "$$\n",
        "\n",
        "🔹 Here, $ W_{meta} $ are the weights of the **meta-loss network**, and $ \\lambda $ controls regularization.  \n",
        "🔹 This **prevents extreme weight assignments** that could overfit specific samples.\n",
        "\n",
        "---\n",
        "\n",
        "## **2️⃣ Enforce Convexity or Monotonicity**\n",
        "**📌 Why?** Loss functions should not behave erratically or assign loss in a non-consistent way.\n",
        "\n",
        "✅ **Solution:**\n",
        "- Restrict the meta-loss network to **produce a convex function** (so that gradient descent is stable).\n",
        "- Use a **monotonic constraint**, ensuring loss **always increases** with error.\n",
        "\n",
        "🔹 **One approach:** Force **meta-loss output** to be always **positive and increasing** in error.\n",
        "\n",
        "```python\n",
        "# Enforcing convexity & monotonicity in the loss function\n",
        "import torch.nn as nn\n",
        "import torch\n",
        "\n",
        "def forward(self, y_true, y_pred):\n",
        "    error = torch.abs(y_true - y_pred)  # Ensure loss increases with error\n",
        "    x = torch.cat((error, y_true, y_pred), dim=1)\n",
        "    x = torch.relu(self.fc1(x))  # ReLU ensures convexity\n",
        "    loss = torch.sigmoid(self.fc2(x))  # Sigmoid ensures loss is bounded\n",
        "    return loss.mean()\n",
        "```\n",
        "\n",
        "🔹 **Impact:** Prevents **\"adversarial loss functions\"** that **decrease loss for incorrect predictions**.\n",
        "\n",
        "---\n",
        "\n",
        "## **3️⃣ Meta-Loss Should Minimize a Secondary Objective (Meta-Optimization)**\n",
        "**📌 Why?** The loss function itself should be optimized for a **higher-level objective**, not just minimizing training error.\n",
        "\n",
        "✅ **Solution:** Use **Meta-Optimization**, where the loss function is trained to **minimize validation/test error**, rather than just training error.\n",
        "\n",
        "🔹 Instead of minimizing raw error:\n",
        "\n",
        "$$\n",
        "L_{meta} = \\text{Validation Error}\n",
        "$$\n",
        "\n",
        "🔹 The loss function is trained **not just to reduce training error**, but to **improve generalization on unseen data**.\n",
        "\n",
        "---\n",
        "\n",
        "## **4️⃣ Loss Function Should Not Depend Too Much on Individual Data Points (Noise Resilience)**\n",
        "**📌 Why?** A learned loss function might **memorize specific noisy patterns** in the dataset, leading to **overfitting**.\n",
        "\n",
        "✅ **Solution:**\n",
        "- **Smooth Loss Output** → Apply **smoothing constraints** so that small variations in input do not cause extreme changes in loss.\n",
        "- **Contrastive Loss Idea** → Train the meta-loss function to **differentiate meaningful errors from random noise**.\n",
        "\n",
        "🔹 **Mathematical Formulation:**  \n",
        "If $ \\epsilon $ is small noise, enforce:\n",
        "\n",
        "$$\n",
        "L_{meta}(y_{true}, y_{pred}) \\approx L_{meta}(y_{true}, y_{pred} + \\epsilon)\n",
        "$$\n",
        "\n",
        "🔹 This means **small perturbations** should not change loss significantly.\n",
        "\n",
        "---\n",
        "\n",
        "## **5️⃣ Loss Function Should Align with Human-Interpretable Goals**\n",
        "**📌 Why?** If a learned loss function **does not make sense** to humans, it can behave unpredictably (e.g., **rewarding bad predictions**).\n",
        "\n",
        "✅ **Solution:**\n",
        "- Add **human-defined constraints** (e.g., penalizing false positives more in medical applications).\n",
        "- Use a **hybrid approach** where the learned loss function is combined with traditional loss.\n",
        "\n",
        "🔹 **Example:** Instead of fully replacing MSE, we use:\n",
        "\n",
        "$$\n",
        "L_{final} = \\alpha L_{meta} + (1 - \\alpha) L_{MSE}\n",
        "$$\n",
        "\n",
        "Where $ \\alpha $ is a learnable parameter that balances **learned vs. traditional loss**.\n",
        "\n"
      ],
      "metadata": {
        "id": "mxaFKGkKJumM"
      }
    }
  ]
}