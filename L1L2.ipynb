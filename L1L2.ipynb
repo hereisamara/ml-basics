{
  "nbformat": 4,
  "nbformat_minor": 0,
  "metadata": {
    "colab": {
      "provenance": [],
      "toc_visible": true
    },
    "kernelspec": {
      "name": "python3",
      "display_name": "Python 3"
    },
    "language_info": {
      "name": "python"
    }
  },
  "cells": [
    {
      "cell_type": "markdown",
      "source": [
        "# L1 and L2 Regularization from Scratch\n",
        "\n",
        "## Introduction\n",
        "Regularization is a technique used to prevent overfitting in machine learning models. The two most common types of regularization are:\n",
        "- **L1 Regularization (Lasso Regression)**: Adds the absolute value of weights to the loss function, leading to sparsity (some weights become zero).\n",
        "- **L2 Regularization (Ridge Regression)**: Adds the square of the weights to the loss function, preventing large weight values and reducing overfitting.\n",
        "\n",
        "This notebook implements L1 and L2 regularization from scratch using NumPy.\n"
      ],
      "metadata": {
        "id": "u_sp_hP9c-37"
      }
    },
    {
      "cell_type": "code",
      "execution_count": 71,
      "metadata": {
        "id": "Q9pPd9aRcz3p"
      },
      "outputs": [],
      "source": [
        "import numpy as np\n",
        "import matplotlib.pyplot as plt"
      ]
    },
    {
      "cell_type": "markdown",
      "source": [
        "## Generating Sample Data\n",
        "Let's generate synthetic linear data with some noise."
      ],
      "metadata": {
        "id": "Mfk7TcMcdC4b"
      }
    },
    {
      "cell_type": "code",
      "source": [
        "np.random.seed(42)\n",
        "X = np.random.rand(100, 5) * 10  # 100 samples, 5 features\n",
        "y = 3*X[:, 0] + 2*X[:, 1] - 1.5*X[:, 2] + np.random.randn(100)"
      ],
      "metadata": {
        "id": "94hY2HGwdCsn"
      },
      "execution_count": 72,
      "outputs": []
    },
    {
      "cell_type": "code",
      "source": [
        "X.shape, y.shape"
      ],
      "metadata": {
        "colab": {
          "base_uri": "https://localhost:8080/"
        },
        "id": "ZzvhTOIjdLJJ",
        "outputId": "77d61e16-301f-4243-b80f-8888d0d51425"
      },
      "execution_count": 73,
      "outputs": [
        {
          "output_type": "execute_result",
          "data": {
            "text/plain": [
              "((100, 5), (100,))"
            ]
          },
          "metadata": {},
          "execution_count": 73
        }
      ]
    },
    {
      "cell_type": "code",
      "source": [
        "X[:5], y[:5]"
      ],
      "metadata": {
        "colab": {
          "base_uri": "https://localhost:8080/"
        },
        "id": "pMkaWgvId5x7",
        "outputId": "fdbede47-2083-4125-f971-0f4e90b49cb0"
      },
      "execution_count": 74,
      "outputs": [
        {
          "output_type": "execute_result",
          "data": {
            "text/plain": [
              "(array([[3.74540119, 9.50714306, 7.31993942, 5.98658484, 1.5601864 ],\n",
              "        [1.5599452 , 0.58083612, 8.66176146, 6.01115012, 7.08072578],\n",
              "        [0.20584494, 9.69909852, 8.32442641, 2.12339111, 1.81824967],\n",
              "        [1.8340451 , 3.04242243, 5.24756432, 4.31945019, 2.9122914 ],\n",
              "        [6.11852895, 1.39493861, 2.92144649, 3.66361843, 4.56069984]]),\n",
              " array([19.61233654, -5.27496349,  8.4795161 ,  3.13873002, 15.86487966]))"
            ]
          },
          "metadata": {},
          "execution_count": 74
        }
      ]
    },
    {
      "cell_type": "markdown",
      "source": [
        "### 1. Non-Regularized Linear Regression"
      ],
      "metadata": {
        "id": "mmUzPo9mgi2e"
      }
    },
    {
      "cell_type": "code",
      "source": [
        "class LinearRegression:\n",
        "    def __init__(self, learning_rate=0.01, epochs=1000):\n",
        "        self.lr = learning_rate\n",
        "        self.epochs = epochs\n",
        "        self.weights = None\n",
        "        self.bias = None\n",
        "\n",
        "    def fit(self, X, y):\n",
        "        n_samples, n_features = X.shape\n",
        "        self.weights = np.zeros(n_features)\n",
        "        self.bias = 0\n",
        "\n",
        "        for _ in range(self.epochs):\n",
        "            y_pred = np.dot(X, self.weights) + self.bias\n",
        "            error = y_pred - y\n",
        "\n",
        "            dw = (1 / n_samples) * np.dot(X.T, error)\n",
        "            db = (1 / n_samples) * np.sum(error)\n",
        "\n",
        "            self.weights -= self.lr * dw\n",
        "            self.bias -= self.lr * db\n",
        "\n",
        "    def predict(self, X):\n",
        "        return np.dot(X, self.weights) + self.bias"
      ],
      "metadata": {
        "id": "W9YQ_muJglY-"
      },
      "execution_count": 75,
      "outputs": []
    },
    {
      "cell_type": "markdown",
      "source": [
        "## Training the Models\n",
        "We will train the model without regluariazation first.\n"
      ],
      "metadata": {
        "id": "sT5cXSPHiWZf"
      }
    },
    {
      "cell_type": "code",
      "source": [
        "# Train models\n",
        "model = LinearRegression(learning_rate=0.01, epochs=1000)\n",
        "model.fit(X, y)"
      ],
      "metadata": {
        "id": "WMQrzzxDgl1C"
      },
      "execution_count": 76,
      "outputs": []
    },
    {
      "cell_type": "code",
      "source": [
        "y_pred_no_reg = model.predict(X)"
      ],
      "metadata": {
        "id": "hgnVYfwViipc"
      },
      "execution_count": 77,
      "outputs": []
    },
    {
      "cell_type": "code",
      "source": [
        "print(\"Weights of the model\", model.weights)"
      ],
      "metadata": {
        "colab": {
          "base_uri": "https://localhost:8080/"
        },
        "id": "jqp8qrXBiwKm",
        "outputId": "b32cb3c8-aa41-493a-d8eb-8f510ee76167"
      },
      "execution_count": 78,
      "outputs": [
        {
          "output_type": "stream",
          "name": "stdout",
          "text": [
            "Weights of the model [ 2.97589144  1.95938026 -1.45173493  0.00523141 -0.03006663]\n"
          ]
        }
      ]
    },
    {
      "cell_type": "markdown",
      "source": [
        "## Implementing L1 and L2 Regularization\n",
        "We will implement linear regression with gradient descent, incorporating L1 and L2 regularization.\n"
      ],
      "metadata": {
        "id": "XXpc5nBWdQO5"
      }
    },
    {
      "cell_type": "code",
      "source": [
        "class LinearRegressionRegularized:\n",
        "    def __init__(self, learning_rate=0.01, epochs=1000, l1_lambda=0, l2_lambda=0):\n",
        "        self.lr = learning_rate\n",
        "        self.epochs = epochs\n",
        "        self.l1_lambda = l1_lambda  # L1 regularization strength\n",
        "        self.l2_lambda = l2_lambda  # L2 regularization strength\n",
        "        self.weights = None\n",
        "        self.bias = None\n",
        "\n",
        "    def fit(self, X, y):\n",
        "        n_samples, n_features = X.shape\n",
        "        self.weights = np.zeros(n_features)\n",
        "        self.bias = 0\n",
        "\n",
        "        for _ in range(self.epochs):\n",
        "            y_pred = np.dot(X, self.weights) + self.bias\n",
        "            error = y_pred - y\n",
        "\n",
        "            # Compute gradients\n",
        "            dw = (1 / n_samples) * np.dot(X.T, error)\n",
        "            db = (1 / n_samples) * np.sum(error)\n",
        "\n",
        "            # Apply L1 and L2 regularization\n",
        "            dw += self.l1_lambda * np.sign(self.weights) + self.l2_lambda * self.weights\n",
        "\n",
        "            # Gradient descent update\n",
        "            self.weights -= self.lr * dw\n",
        "            self.bias -= self.lr * db\n",
        "\n",
        "    def predict(self, X):\n",
        "        return np.dot(X, self.weights) + self.bias"
      ],
      "metadata": {
        "id": "DSFDdTTodPyM"
      },
      "execution_count": 79,
      "outputs": []
    },
    {
      "cell_type": "markdown",
      "source": [
        "### Explanation\n",
        "<details>\n",
        "<summary>\n",
        "click to expand\n",
        "</summary>\n",
        "\n",
        "## L1 and L2 Regularization Explained\n",
        "\n",
        "Regularization is a technique used to prevent overfitting in machine learning models. The two most common types of regularization are:\n",
        "\n",
        "- **L1 Regularization (Lasso Regression)**: `Adds the absolute value of weights` to the loss function, leading to sparsity (some weights become zero).\n",
        "- **L2 Regularization (Ridge Regression)**: `Adds the square of the weights` to the loss function, preventing large weight values and reducing overfitting.\n",
        "\n",
        "This document explains the implementation of L1 and L2 regularization from scratch using NumPy.\n",
        "\n",
        "## Understanding Regularized Linear Regression\n",
        "The basic equation of Linear Regression is:\n",
        "\n",
        "$$\n",
        "y = Xw + b\n",
        "$$\n",
        "\n",
        "where:\n",
        "- $X$ = feature matrix (input data)\n",
        "- $w$ = weight vector (coefficients)\n",
        "- $b$ = bias (intercept)\n",
        "- $y$ = predicted values\n",
        "\n",
        "To optimize the model, we minimize the **Loss Function**, which measures the error between predicted values and actual values.\n",
        "\n",
        "### Mean Squared Error (MSE)\n",
        "$$\n",
        "\\frac{1}{n} \\sum_{i=1}^{n} (y_i - \\hat{y}_i)^2\n",
        "$$\n",
        "where $n$ is the number of samples.\n",
        "\n",
        "### Adding Regularization\n",
        "To prevent large weight values and overfitting, we add regularization terms:\n",
        "\n",
        "1. **L1 Regularization (Lasso)**: $ \\lambda_1 \\sum |w_i| $\n",
        "   - Encourages sparsity (some weights become zero).\n",
        "   - Helps with feature selection.\n",
        "   \n",
        "2. **L2 Regularization (Ridge)**: $ \\lambda_2 \\sum w_i^2 $\n",
        "   - Shrinks weights without making them exactly zero.\n",
        "   - Reduces overfitting.\n",
        "\n",
        "The new loss function becomes:\n",
        "$$\n",
        "\\text{Loss} = \\frac{1}{n} \\sum (y_i - \\hat{y}_i)^2 + \\lambda_1 \\sum |w_i| + \\lambda_2 \\sum w_i^2\n",
        "$$\n",
        "\n",
        "## Code Breakdown\n",
        "\n",
        "### 1. Initialization (`__init__` method)\n",
        "```python\n",
        "class LinearRegressionRegularized:\n",
        "    def __init__(self, learning_rate=0.01, epochs=1000, l1_lambda=0, l2_lambda=0):\n",
        "        self.lr = learning_rate\n",
        "        self.epochs = epochs\n",
        "        self.l1_lambda = l1_lambda  # L1 regularization strength\n",
        "        self.l2_lambda = l2_lambda  # L2 regularization strength\n",
        "        self.weights = None\n",
        "        self.bias = None\n",
        "```\n",
        "- Initializes learning rate, epochs, L1 & L2 strengths, and model parameters.\n",
        "\n",
        "### 2. Training the Model (`fit` method)\n",
        "```python\n",
        "def fit(self, X, y):\n",
        "    n_samples, n_features = X.shape\n",
        "    self.weights = np.zeros(n_features)\n",
        "    self.bias = 0\n",
        "```\n",
        "- Initializes weights and bias to zero.\n",
        "\n",
        "### 3. Performing Gradient Descent\n",
        "```python\n",
        "for _ in range(self.epochs):\n",
        "    y_pred = np.dot(X, self.weights) + self.bias\n",
        "    error = y_pred - y\n",
        "```\n",
        "- Computes predictions $ \\hat{y} = Xw + b $.\n",
        "- Computes error $ \\hat{y} - y $.\n",
        "\n",
        "### 4. Compute Gradients\n",
        "```python\n",
        "dw = (1 / n_samples) * np.dot(X.T, error)  \n",
        "db = (1 / n_samples) * np.sum(error)\n",
        "```\n",
        "- Computes gradient of the loss w.r.t. weights and bias.\n",
        "\n",
        "### 5. Apply Regularization\n",
        "```python\n",
        "dw += self.l1_lambda * np.sign(self.weights) + self.l2_lambda * self.weights\n",
        "```\n",
        "- Adds L1 regularization using `np.sign(self.weights)`.\n",
        "- Adds L2 regularization by multiplying weights with `l2_lambda`.\n",
        "\n",
        "### 6. Update Weights and Bias\n",
        "```python\n",
        "self.weights -= self.lr * dw\n",
        "self.bias -= self.lr * db\n",
        "```\n",
        "- Adjusts weights and bias using gradient descent.\n",
        "\n",
        "### 7. Making Predictions\n",
        "```python\n",
        "def predict(self, X):\n",
        "    return np.dot(X, self.weights) + self.bias\n",
        "```\n",
        "- Computes predictions using the trained model.\n",
        "\n",
        "## Connecting the Dots: What’s Happening?\n",
        "1. **Initialize weights and bias** to zero.\n",
        "2. **Compute predictions** using \\( y = Xw + b \\).\n",
        "3. **Calculate error** (difference between predicted and actual values).\n",
        "4. **Compute gradients** to determine how to update weights.\n",
        "5. **Apply L1 and L2 penalties** to control model complexity.\n",
        "6. **Update weights** using gradient descent.\n",
        "7. **Repeat for multiple epochs** to minimize the loss.\n",
        "8. **Predict new values** using optimized weights.\n",
        "\n",
        "## Effect of Regularization\n",
        "1. **L1 Regularization (Lasso)**\n",
        "   - Pushes some weights **exactly to zero**.\n",
        "   - Helps with feature selection.\n",
        "\n",
        "2. **L2 Regularization (Ridge)**\n",
        "   - Shrinks all weights but **does not make them zero**.\n",
        "   - Prevents overfitting.\n",
        "\n",
        "## Final Thoughts\n",
        "- **Without regularization**: The model learns weights purely based on data, leading to overfitting.\n",
        "- **With L1**: Some features are ignored, making the model simpler and more interpretable.\n",
        "- **With L2**: Weights are small, reducing overfitting without eliminating features.\n",
        "\n",
        "</details>"
      ],
      "metadata": {
        "id": "4T8JSkDVe8-a"
      }
    },
    {
      "cell_type": "markdown",
      "source": [
        "## Training the Models\n",
        "We will train two models: one with L1 regularization and another with L2 regularization.\n",
        "\n"
      ],
      "metadata": {
        "id": "5QiMfOOTdbQm"
      }
    },
    {
      "cell_type": "code",
      "source": [
        "# Train models with L1 and L2 regularization\n",
        "model_l1 = LinearRegressionRegularized(learning_rate=0.01, epochs=1000, l1_lambda=0.1, l2_lambda=0)\n",
        "model_l1.fit(X, y)\n",
        "\n",
        "model_l2 = LinearRegressionRegularized(learning_rate=0.01, epochs=1000, l1_lambda=0, l2_lambda=0.1)\n",
        "model_l2.fit(X, y)"
      ],
      "metadata": {
        "id": "pDD7Pc6PdW45"
      },
      "execution_count": 80,
      "outputs": []
    },
    {
      "cell_type": "markdown",
      "source": [
        "## Predictions\n",
        "Let's make predictions using both models and compare the results.\n"
      ],
      "metadata": {
        "id": "WlGVgUmcdgrt"
      }
    },
    {
      "cell_type": "code",
      "source": [
        "y_pred_l1 = model_l1.predict(X)\n",
        "y_pred_l2 = model_l2.predict(X)"
      ],
      "metadata": {
        "id": "QReZSfdqdhZz"
      },
      "execution_count": 81,
      "outputs": []
    },
    {
      "cell_type": "markdown",
      "source": [
        "## Visualizing the Results\n",
        "Let's plot the predictions along with the actual data.\n"
      ],
      "metadata": {
        "id": "jCZBX59Adk6D"
      }
    },
    {
      "cell_type": "code",
      "source": [
        "fig, axes = plt.subplots(1, 3, figsize=(15, 5))\n",
        "\n",
        "# No Regularization\n",
        "axes[0].scatter(y, y_pred_no_reg, color=\"black\", alpha=0.7)\n",
        "axes[0].set_title(\"No Regularization\")\n",
        "axes[0].set_xlabel(\"Actual Values\")\n",
        "axes[0].set_ylabel(\"Predicted Values\")\n",
        "\n",
        "# L1 Regularization\n",
        "axes[1].scatter(y, y_pred_l1, color=\"red\", alpha=0.7)\n",
        "axes[1].set_title(\"L1 Regularization\")\n",
        "axes[1].set_xlabel(\"Actual Values\")\n",
        "axes[1].set_ylabel(\"Predicted Values\")\n",
        "\n",
        "# L2 Regularization\n",
        "axes[2].scatter(y, y_pred_l2, color=\"green\", alpha=0.7)\n",
        "axes[2].set_title(\"L2 Regularization\")\n",
        "axes[2].set_xlabel(\"Actual Values\")\n",
        "axes[2].set_ylabel(\"Predicted Values\")\n",
        "\n",
        "plt.tight_layout()\n",
        "plt.show()"
      ],
      "metadata": {
        "colab": {
          "base_uri": "https://localhost:8080/",
          "height": 394
        },
        "id": "c5S4WMJbdlgl",
        "outputId": "91e9491c-89fc-46ee-d2d1-3dae8f440c41"
      },
      "execution_count": 82,
      "outputs": [
        {
          "output_type": "display_data",
          "data": {
            "text/plain": [
              "<Figure size 1500x500 with 3 Axes>"
            ],
            "image/png": "[encoded data removed]"
          },
          "metadata": {}
        }
      ]
    },
    {
      "cell_type": "code",
      "source": [
        "from sklearn.metrics import mean_squared_error, r2_score\n",
        "\n",
        "print(\"MSE without Regularization:\", mean_squared_error(y, y_pred_no_reg))\n",
        "print(\"MSE with L1 Regularization:\", mean_squared_error(y, y_pred_l1))\n",
        "print(\"MSE with L2 Regularization:\", mean_squared_error(y, y_pred_l2))\n",
        "print()\n",
        "print(\"R² Score without Regularization:\", r2_score(y, y_pred_no_reg))\n",
        "print(\"R² Score with L1 Regularization:\", r2_score(y, y_pred_l1))\n",
        "print(\"R² Score with L2 Regularization:\", r2_score(y, y_pred_l2))"
      ],
      "metadata": {
        "colab": {
          "base_uri": "https://localhost:8080/"
        },
        "id": "iJLsj1INj9ne",
        "outputId": "b84eeed9-d3ce-48c6-a06b-d8016dc8f06a"
      },
      "execution_count": 83,
      "outputs": [
        {
          "output_type": "stream",
          "name": "stdout",
          "text": [
            "MSE without Regularization: 1.1239298925634542\n",
            "MSE with L1 Regularization: 1.1284172787901636\n",
            "MSE with L2 Regularization: 1.1380211709682408\n",
            "\n",
            "R² Score without Regularization: 0.9910266709098515\n",
            "R² Score with L1 Regularization: 0.9909908441259628\n",
            "R² Score with L2 Regularization: 0.9909141677374884\n"
          ]
        }
      ]
    },
    {
      "cell_type": "markdown",
      "source": [
        "Results show that regularization slightly increases MSE and decreases R² compared to the non-regularized model. This might seem counterintuitive at first, but here’s why:\n",
        "\n",
        "#### Why Does MSE Increase with Regularization?  \n",
        "- Regularization adds a penalty term to reduce overfitting.\n",
        "This shrinks the weights, which may slightly reduce accuracy on the training set.\n",
        "- A small increase in MSE is expected because the model is now simpler and less sensitive to noise.  \n",
        "\n",
        "#### Why Does R² Decrease?\n",
        "- R² measures how well the model explains variance in the data.\n",
        "- A small drop in R² suggests the model is generalizing better by avoiding overfitting."
      ],
      "metadata": {
        "id": "UI5HbUK5kYVS"
      }
    },
    {
      "cell_type": "markdown",
      "source": [
        "## Comparing Model Weights\n",
        "L1 regularization tends to push some weights to zero, while L2 regularization shrinks weights but does not make them zero.\n"
      ],
      "metadata": {
        "id": "-W4Jvo5tdpVy"
      }
    },
    {
      "cell_type": "code",
      "source": [
        "print(\"Weights with L1 Regularization:\", model_l1.weights)\n",
        "print(\"Weights with L2 Regularization:\", model_l2.weights)"
      ],
      "metadata": {
        "colab": {
          "base_uri": "https://localhost:8080/"
        },
        "id": "cW5OH3gGdo4-",
        "outputId": "4f89ad9e-69cd-4014-acf7-ce9490bb48a4"
      },
      "execution_count": 84,
      "outputs": [
        {
          "output_type": "stream",
          "name": "stdout",
          "text": [
            "Weights with L1 Regularization: [ 2.96714824e+00  1.94739150e+00 -1.43974648e+00 -3.68149498e-04\n",
            " -1.90796551e-02]\n",
            "Weights with L2 Regularization: [ 2.94721874  1.93607111 -1.43212885  0.0148614  -0.03124156]\n"
          ]
        }
      ]
    },
    {
      "cell_type": "markdown",
      "source": [
        "## How to See the True Impact of Regularization?\n",
        "### Test on a Separate Validation Set\n",
        "Right now, you're evaluating performance on the same training data.  \n",
        "Instead, split your dataset into training and test sets:\n"
      ],
      "metadata": {
        "id": "sUGbWPgykkyK"
      }
    },
    {
      "cell_type": "code",
      "source": [
        "from sklearn.model_selection import train_test_split\n",
        "\n",
        "X_train, X_test, y_train, y_test = train_test_split(X, y, test_size=0.2, random_state=42)"
      ],
      "metadata": {
        "id": "MiLFZGWMklFY"
      },
      "execution_count": 85,
      "outputs": []
    },
    {
      "cell_type": "code",
      "source": [
        "model_no_reg = LinearRegression(learning_rate=0.01, epochs=100000)\n",
        "model_l1 = LinearRegressionRegularized(learning_rate=0.01, epochs=100000, l1_lambda=5, l2_lambda=0)\n",
        "model_l2 = LinearRegressionRegularized(learning_rate=0.01, epochs=100000, l1_lambda=0, l2_lambda=5)\n",
        "\n",
        "model_no_reg.fit(X_train, y_train)\n",
        "model_l1.fit(X_train, y_train)\n",
        "model_l2.fit(X_train, y_train)"
      ],
      "metadata": {
        "id": "AXPFbUlsklw8"
      },
      "execution_count": 54,
      "outputs": []
    },
    {
      "cell_type": "code",
      "source": [
        "print(\"Weights without Regularization:\", model_no_reg.weights)\n",
        "print(\"Weights with L1 Regularization:\", model_l1.weights)\n",
        "print(\"Weights with L2 Regularization:\", model_l2.weights)"
      ],
      "metadata": {
        "colab": {
          "base_uri": "https://localhost:8080/"
        },
        "id": "lTcgAjb8koqE",
        "outputId": "df9544bd-b7f1-4564-b412-8cd301385ac1"
      },
      "execution_count": 55,
      "outputs": [
        {
          "output_type": "stream",
          "name": "stdout",
          "text": [
            "Weights without Regularization: [ 2.96529657  1.97660834 -1.43520891  0.01455906 -0.04456358]\n",
            "Weights with L1 Regularization: [ 2.43960388  1.33955753 -0.91421527 -0.0359871  -0.04309615]\n",
            "Weights with L2 Regularization: [ 1.89822563  1.18563228 -0.98920921  0.13248064 -0.12353155]\n"
          ]
        }
      ]
    },
    {
      "cell_type": "markdown",
      "source": [
        "### Predict the test set"
      ],
      "metadata": {
        "id": "Xk-r5b4moE1y"
      }
    },
    {
      "cell_type": "code",
      "source": [
        "y_pred_no_reg = model_no_reg.predict(X_test)\n",
        "y_pred_l1 = model_l1.predict(X_test)\n",
        "y_pred_l2 = model_l2.predict(X_test)"
      ],
      "metadata": {
        "id": "vZ4tVZXTk7Fy"
      },
      "execution_count": 56,
      "outputs": []
    },
    {
      "cell_type": "markdown",
      "source": [
        "### Visualizing the Results"
      ],
      "metadata": {
        "id": "ZaFTotnZoMQg"
      }
    },
    {
      "cell_type": "code",
      "source": [
        "fig, axes = plt.subplots(1, 3, figsize=(15, 5))\n",
        "\n",
        "# No Regularization\n",
        "axes[0].scatter(y_test, y_pred_no_reg, color=\"black\", alpha=0.7)\n",
        "axes[0].set_title(\"No Regularization\")\n",
        "axes[0].set_xlabel(\"Actual Values\")\n",
        "axes[0].set_ylabel(\"Predicted Values\")\n",
        "\n",
        "# L1 Regularization\n",
        "axes[1].scatter(y_test, y_pred_l1, color=\"red\", alpha=0.7)\n",
        "axes[1].set_title(\"L1 Regularization\")\n",
        "axes[1].set_xlabel(\"Actual Values\")\n",
        "axes[1].set_ylabel(\"Predicted Values\")\n",
        "\n",
        "# L2 Regularization\n",
        "axes[2].scatter(y_test, y_pred_l2, color=\"green\", alpha=0.7)\n",
        "axes[2].set_title(\"L2 Regularization\")\n",
        "axes[2].set_xlabel(\"Actual Values\")\n",
        "axes[2].set_ylabel(\"Predicted Values\")\n",
        "\n",
        "plt.tight_layout()\n",
        "plt.show()"
      ],
      "metadata": {
        "colab": {
          "base_uri": "https://localhost:8080/",
          "height": 394
        },
        "id": "m8sgfpGBlE6B",
        "outputId": "1dda1e1a-e556-4a9d-aa41-1b1d41a52b54"
      },
      "execution_count": 57,
      "outputs": [
        {
          "output_type": "display_data",
          "data": {
            "text/plain": [
              "<Figure size 1500x500 with 3 Axes>"
            ],
            "image/png": "[encoded data removed]"
          },
          "metadata": {}
        }
      ]
    },
    {
      "cell_type": "code",
      "source": [
        "from sklearn.metrics import mean_squared_error, r2_score\n",
        "\n",
        "print(\"MSE without Regularization:\", mean_squared_error(y_test, y_pred_no_reg))\n",
        "print(\"MSE with L1 Regularization:\", mean_squared_error(y_test, y_pred_l1))\n",
        "print(\"MSE with L2 Regularization:\", mean_squared_error(y_test, y_pred_l2))\n",
        "print()\n",
        "print(\"R² Score without Regularization:\", r2_score(y_test, y_pred_no_reg))\n",
        "print(\"R² Score with L1 Regularization:\", r2_score(y_test, y_pred_l1))\n",
        "print(\"R² Score with L2 Regularization:\", r2_score(y_test, y_pred_l2))"
      ],
      "metadata": {
        "colab": {
          "base_uri": "https://localhost:8080/"
        },
        "id": "5AiNpp-HlU0A",
        "outputId": "db6bfb52-0734-43fa-da2c-d3b0d806bb5a"
      },
      "execution_count": 58,
      "outputs": [
        {
          "output_type": "stream",
          "name": "stdout",
          "text": [
            "MSE without Regularization: 0.9759395553108275\n",
            "MSE with L1 Regularization: 6.109312494104582\n",
            "MSE with L2 Regularization: 12.2689076693449\n",
            "\n",
            "R² Score without Regularization: 0.9890163027498516\n",
            "R² Score with L1 Regularization: 0.9312428331481843\n",
            "R² Score with L2 Regularization: 0.8619197606073173\n"
          ]
        }
      ]
    },
    {
      "cell_type": "markdown",
      "source": [
        "Now you're seeing a clear impact of regularization! Let's analyze the results:\n",
        "\n",
        "# **Key Observations**\n",
        "\n",
        "| Model                      | MSE ↓ (Lower is better) | R² Score ↑ (Higher is better) | Effect |\n",
        "|----------------------------|------------------------|------------------------------|------------------------------------------------|\n",
        "| **No Regularization**      | **0.98**               | **0.99**                      | Best fit on training data, but might overfit. |\n",
        "| **L1 (Lasso) Regularization** | **6.19 (↑ much higher)** | **0.93 (↓ lower)**           | Feature selection: some weights are zero, leading to information loss. |\n",
        "| **L2 (Ridge) Regularization** | **12.53 (↑ much higher)** | **0.86 (↓ lower)**          | Strong weight shrinkage, reducing model complexity. |\n",
        "\n",
        "---\n",
        "\n",
        "## **What’s Happening?**\n",
        "\n",
        "### **L1 Regularization (Lasso)**\n",
        "- The **MSE increased significantly** (6.19).  \n",
        "- Some features were **ignored** (weights set to **0**).  \n",
        "- **R² decreased** (0.93), meaning the model explains **less variance** than the non-regularized model.  \n",
        "- **L1 aggressively removes features**, which may be too strong for this dataset.  \n",
        "\n",
        "### **L2 Regularization (Ridge)**\n",
        "- The **MSE increased even more** (12.53).  \n",
        "- This suggests that weights are **heavily shrunk**, reducing the model’s ability to fit the data.  \n",
        "- **R² dropped to 0.86**, meaning the model is **less overfitted but also less accurate**.  \n",
        "\n",
        "---"
      ],
      "metadata": {
        "id": "FDRktCdZmf_O"
      }
    },
    {
      "cell_type": "markdown",
      "source": [
        "\n",
        "## **How to Improve?**\n",
        "\n",
        "### ✅ **1. Reduce Regularization Strength**\n",
        "Your regularization might be **too strong**, causing **underfitting**.  \n",
        "\n",
        "Try **lowering** `l1_lambda` and `l2_lambda`:\n",
        "\n",
        "```python\n",
        "model_l1 = LinearRegressionRegularized(l1_lambda=0.05, l2_lambda=0)\n",
        "model_l2 = LinearRegressionRegularized(l1_lambda=0, l2_lambda=0.05)\n",
        "```\n",
        "This should balance feature selection (L1) and weight shrinkage (L2).\n",
        "\n",
        "\n",
        "✅ 2. Check the Weights\n",
        "Print the learned weights to see if they are zero (L1) or very small (L2):\n",
        "\n",
        "```\n",
        "print(\"Weights without Regularization:\", model_no_reg.weights)\n",
        "print(\"Weights with L1 Regularization:\", model_l1.weights)\n",
        "print(\"Weights with L2 Regularization:\", model_l2.weights)\n",
        "```\n",
        "- L1 should set some weights to exactly 0.  \n",
        "- L2 should shrink all weights but keep them nonzero.\n"
      ],
      "metadata": {
        "id": "Qp5BaXf4mwOJ"
      }
    },
    {
      "cell_type": "markdown",
      "source": [
        "# Retry with reduce L1 L2 value"
      ],
      "metadata": {
        "id": "8EGAfFQsn_oc"
      }
    },
    {
      "cell_type": "code",
      "source": [
        "model_l1 = LinearRegressionRegularized(l1_lambda=0.05, l2_lambda=0)\n",
        "model_l2 = LinearRegressionRegularized(l1_lambda=0, l2_lambda=0.05)"
      ],
      "metadata": {
        "id": "lmSJQux4nlOe"
      },
      "execution_count": 68,
      "outputs": []
    },
    {
      "cell_type": "code",
      "source": [
        "from sklearn.model_selection import train_test_split\n",
        "\n",
        "# Split the data into training and testing sets\n",
        "X_train, X_test, y_train, y_test = train_test_split(X, y, test_size=0.2, random_state=42)\n",
        "\n",
        "# Train models on training data\n",
        "model_no_reg.fit(X_train, y_train)\n",
        "model_l1.fit(X_train, y_train)\n",
        "model_l2.fit(X_train, y_train)\n",
        "\n",
        "# Make predictions on test data\n",
        "y_test_pred_no_reg = model_no_reg.predict(X_test)\n",
        "y_test_pred_l1 = model_l1.predict(X_test)\n",
        "y_test_pred_l2 = model_l2.predict(X_test)\n",
        "\n",
        "# Evaluate performance on test set\n",
        "from sklearn.metrics import mean_squared_error\n",
        "\n",
        "print(\"Test MSE without Regularization:\", mean_squared_error(y_test, y_test_pred_no_reg))\n",
        "print(\"Test MSE with L1 Regularization:\", mean_squared_error(y_test, y_test_pred_l1))\n",
        "print(\"Test MSE with L2 Regularization:\", mean_squared_error(y_test, y_test_pred_l2))"
      ],
      "metadata": {
        "colab": {
          "base_uri": "https://localhost:8080/"
        },
        "id": "6j2Zgr5Nnbf3",
        "outputId": "254604f6-2350-47a1-e146-d8a9af364b30"
      },
      "execution_count": 69,
      "outputs": [
        {
          "output_type": "stream",
          "name": "stdout",
          "text": [
            "Test MSE without Regularization: 0.9759395553108275\n",
            "Test MSE with L1 Regularization: 0.9696207558996447\n",
            "Test MSE with L2 Regularization: 0.9930083055985268\n"
          ]
        }
      ]
    },
    {
      "cell_type": "code",
      "source": [
        "print(\"Weights without Regularization:\", model_no_reg.weights)\n",
        "print(\"Weights with L1 Regularization:\", model_l1.weights)\n",
        "print(\"Weights with L2 Regularization:\", model_l2.weights)"
      ],
      "metadata": {
        "colab": {
          "base_uri": "https://localhost:8080/"
        },
        "id": "509uGtfBnmUV",
        "outputId": "2ba22a3a-afb2-4369-95ca-51f7215e00c2"
      },
      "execution_count": 67,
      "outputs": [
        {
          "output_type": "stream",
          "name": "stdout",
          "text": [
            "Weights without Regularization: [ 2.96529657  1.97660834 -1.43520891  0.01455906 -0.04456358]\n",
            "Weights with L1 Regularization: [ 2.95887147  1.96605877 -1.42452026  0.00396725 -0.03196987]\n",
            "Weights with L2 Regularization: [ 2.93711115  1.9561217  -1.4162861   0.02532152 -0.04565446]\n"
          ]
        }
      ]
    },
    {
      "cell_type": "markdown",
      "source": [
        "Regularized models should now perform better on test data if the original model was overfitting."
      ],
      "metadata": {
        "id": "rPxzYIanpDFk"
      }
    }
  ]
}