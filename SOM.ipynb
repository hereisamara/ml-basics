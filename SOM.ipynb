{
  "nbformat": 4,
  "nbformat_minor": 0,
  "metadata": {
    "colab": {
      "provenance": [],
      "toc_visible": true
    },
    "kernelspec": {
      "name": "python3",
      "display_name": "Python 3"
    },
    "language_info": {
      "name": "python"
    }
  },
  "cells": [
    {
      "cell_type": "markdown",
      "source": [
        "# Self-Organizing Map (SOM) with Radius-Based Neighborhood (2x2 Grid)\n",
        "\n",
        "SOM stands for Self-Organizing Map, a type of unsupervised neural network introduced by Teuvo Kohonen. It’s used mainly for dimensionality reduction, clustering, and data visualization — especially useful when working with high-dimensional data.\n",
        "\n",
        "\n",
        "\n",
        "### Best Matching Unit (BMU) – Short Note\n",
        "\n",
        "The **Best Matching Unit (BMU)** in a Self-Organizing Map (SOM) is the **neuron (node) whose weight vector is most similar to a given input vector**.\n",
        "\n",
        "- It is identified using a **distance metric**, usually **Euclidean distance**:\n",
        "\n",
        "  $$\n",
        "  \\text{BMU} = \\arg\\min_i \\|\\mathbf{x} - \\mathbf{w}_i\\|\n",
        "  $$\n",
        "\n",
        "  where:\n",
        "  - $\\mathbf{x} $ is the input vector\n",
        "  - $\\mathbf{w}_i $ is the weight vector of node \\(i\\)\n",
        "\n",
        "- During training:\n",
        "  - The **BMU and its neighbors** are updated to better match the input.\n",
        "  - This helps preserve the **topology** of the data on the SOM grid.\n",
        "\n",
        "> 🔍 The BMU is the **\"winning\" neuron** — the one that best represents the current input sample.\n"
      ],
      "metadata": {
        "id": "zUkmzsR8qmkj"
      }
    },
    {
      "cell_type": "markdown",
      "source": [
        "### Imports and Dataset"
      ],
      "metadata": {
        "id": "yXJDNjG7qq7e"
      }
    },
    {
      "cell_type": "code",
      "execution_count": 1,
      "metadata": {
        "id": "OfFJVKL8qgnQ"
      },
      "outputs": [],
      "source": [
        "import numpy as np\n",
        "import matplotlib.pyplot as plt"
      ]
    },
    {
      "cell_type": "code",
      "source": [
        "# Sample 2D input data\n",
        "data = np.array([\n",
        "    [0.1, 0.8],\n",
        "    [0.2, 0.6],\n",
        "    [0.9, 0.2],\n",
        "    [0.8, 0.4]\n",
        "])"
      ],
      "metadata": {
        "id": "8tUnAW36qqVu"
      },
      "execution_count": 2,
      "outputs": []
    },
    {
      "cell_type": "markdown",
      "source": [
        "### Initialize SOM Parameters\n",
        "\n",
        "\n",
        "#### Neighborhood Radius\n",
        "- The **radius** defines how many surrounding nodes are updated along with the BMU.\n",
        "- A **radius of 0** updates only the BMU.\n",
        "- A **radius of 1 or 2** includes neighboring nodes, helping preserve input topology."
      ],
      "metadata": {
        "id": "udlW15xQqvvB"
      }
    },
    {
      "cell_type": "code",
      "source": [
        "grid_shape = (2, 2)\n",
        "input_dim = 2\n",
        "learning_rate = 0.5\n",
        "radius = 1\n",
        "epochs = 2\n",
        "\n",
        "# Random seed for reproducibility\n",
        "np.random.seed(42)\n",
        "weights = np.random.rand(grid_shape[0], grid_shape[1], input_dim)\n"
      ],
      "metadata": {
        "id": "Apc3x-2pqtUJ"
      },
      "execution_count": 3,
      "outputs": []
    },
    {
      "cell_type": "markdown",
      "source": [
        "### Distance & Update Helpers"
      ],
      "metadata": {
        "id": "JWsi2kyhqz-3"
      }
    },
    {
      "cell_type": "code",
      "source": [
        "def euclidean(a, b):\n",
        "    return np.linalg.norm(a - b)\n",
        "\n",
        "def gaussian_decay(distance, radius):\n",
        "    return np.exp(-distance**2 / (2 * (radius**2)))"
      ],
      "metadata": {
        "id": "5IvKW36_qyob"
      },
      "execution_count": 4,
      "outputs": []
    },
    {
      "cell_type": "markdown",
      "source": [
        "### Training Loop (with Radius-Based Neighborhood)\n",
        "\n",
        "#### Weight Update Rule\n",
        "- Weights of the BMU and its neighbors are updated like:\n",
        "\n",
        "  $$\n",
        "  \\mathbf{w}_{\\text{new}} = \\mathbf{w}_{\\text{old}} + \\alpha \\cdot \\theta \\cdot (\\mathbf{x} - \\mathbf{w}_{\\text{old}})\n",
        "  $$\n",
        "\n",
        "  where:\n",
        "  - $\\alpha $ = learning rate\n",
        "  - $ \\theta $ = neighborhood influence (e.g., Gaussian decay)"
      ],
      "metadata": {
        "id": "IIx2ek17q7HH"
      }
    },
    {
      "cell_type": "code",
      "source": [
        "for epoch in range(epochs):\n",
        "    print(f\"\\n🔁 Epoch {epoch+1}\")\n",
        "\n",
        "    for idx, sample in enumerate(data):\n",
        "        # Find BMU\n",
        "        bmu_idx = None\n",
        "        min_dist = float('inf')\n",
        "\n",
        "        for i in range(grid_shape[0]):\n",
        "            for j in range(grid_shape[1]):\n",
        "                dist = euclidean(sample, weights[i, j])\n",
        "                if dist < min_dist:\n",
        "                    min_dist = dist\n",
        "                    bmu_idx = (i, j)\n",
        "\n",
        "        print(f\"\\n  ▶ Sample {idx+1}: {sample}\")\n",
        "        print(f\"     BMU: {bmu_idx}, Weight: {weights[bmu_idx]}\")\n",
        "\n",
        "        # Update BMU and neighbors\n",
        "        for i in range(grid_shape[0]):\n",
        "            for j in range(grid_shape[1]):\n",
        "                dist_to_bmu = euclidean(np.array([i, j]), np.array(bmu_idx))\n",
        "                if dist_to_bmu <= radius:\n",
        "                    influence = gaussian_decay(dist_to_bmu, radius)\n",
        "                    weights[i, j] += learning_rate * influence * (sample - weights[i, j])\n",
        "                    print(f\"     → Updated ({i},{j}) to {weights[i,j]} with influence {influence:.3f}\")\n"
      ],
      "metadata": {
        "colab": {
          "base_uri": "https://localhost:8080/"
        },
        "id": "Xxgia_9yq4mu",
        "outputId": "cd62a830-f045-42a1-f033-2dccbd9d0567"
      },
      "execution_count": 5,
      "outputs": [
        {
          "output_type": "stream",
          "name": "stdout",
          "text": [
            "\n",
            "🔁 Epoch 1\n",
            "\n",
            "  ▶ Sample 1: [0.1 0.8]\n",
            "     BMU: (1, 1), Weight: [0.05808361 0.86617615]\n",
            "     → Updated (0,1) to [0.54033209 0.65971839] with influence 0.607\n",
            "     → Updated (1,0) to [0.13903013 0.35129905] with influence 0.607\n",
            "     → Updated (1,1) to [0.07904181 0.83308807] with influence 1.000\n",
            "\n",
            "  ▶ Sample 2: [0.2 0.6]\n",
            "     BMU: (1, 0), Weight: [0.13903013 0.35129905]\n",
            "     → Updated (0,0) to [0.32160815 0.84435482] with influence 0.607\n",
            "     → Updated (1,0) to [0.16951506 0.47564953] with influence 1.000\n",
            "     → Updated (1,1) to [0.11572423 0.76240054] with influence 0.607\n",
            "\n",
            "  ▶ Sample 3: [0.9 0.2]\n",
            "     BMU: (0, 1), Weight: [0.54033209 0.65971839]\n",
            "     → Updated (0,0) to [0.49701435 0.64894434] with influence 0.607\n",
            "     → Updated (0,1) to [0.72016605 0.42985919] with influence 1.000\n",
            "     → Updated (1,1) to [0.35356788 0.59184396] with influence 0.607\n",
            "\n",
            "  ▶ Sample 4: [0.8 0.4]\n",
            "     BMU: (0, 1), Weight: [0.72016605 0.42985919]\n",
            "     → Updated (0,0) to [0.58889939 0.57344815] with influence 0.607\n",
            "     → Updated (0,1) to [0.76008302 0.4149296 ] with influence 1.000\n",
            "     → Updated (1,1) to [0.48895527 0.53366434] with influence 0.607\n",
            "\n",
            "🔁 Epoch 2\n",
            "\n",
            "  ▶ Sample 1: [0.1 0.8]\n",
            "     BMU: (1, 0), Weight: [0.16951506 0.47564953]\n",
            "     → Updated (0,0) to [0.44063316 0.64215347] with influence 0.607\n",
            "     → Updated (1,0) to [0.13475753 0.63782476] with influence 1.000\n",
            "     → Updated (1,1) to [0.37099862 0.61443471] with influence 0.607\n",
            "\n",
            "  ▶ Sample 2: [0.2 0.6]\n",
            "     BMU: (1, 0), Weight: [0.13475753 0.63782476]\n",
            "     → Updated (0,0) to [0.36765746 0.62936979] with influence 0.607\n",
            "     → Updated (1,0) to [0.16737877 0.61891238] with influence 1.000\n",
            "     → Updated (1,1) to [0.31914067 0.61005716] with influence 0.607\n",
            "\n",
            "  ▶ Sample 3: [0.9 0.2]\n",
            "     BMU: (0, 1), Weight: [0.76008302 0.4149296 ]\n",
            "     → Updated (0,0) to [0.5290985  0.49915682] with influence 0.607\n",
            "     → Updated (0,1) to [0.83004151 0.3074648 ] with influence 1.000\n",
            "     → Updated (1,1) to [0.49529516 0.48570104] with influence 0.607\n",
            "\n",
            "  ▶ Sample 4: [0.8 0.4]\n",
            "     BMU: (0, 1), Weight: [0.83004151 0.3074648 ]\n",
            "     → Updated (0,0) to [0.61125353 0.46908599] with influence 0.607\n",
            "     → Updated (0,1) to [0.81502076 0.3537324 ] with influence 1.000\n",
            "     → Updated (1,1) to [0.58770158 0.45971089] with influence 0.607\n"
          ]
        }
      ]
    },
    {
      "cell_type": "markdown",
      "source": [
        "### Final Weights After Training"
      ],
      "metadata": {
        "id": "4WPAWAm7q94c"
      }
    },
    {
      "cell_type": "code",
      "source": [
        "print(\"\\n📦 Final SOM Weights:\")\n",
        "for i in range(grid_shape[0]):\n",
        "    for j in range(grid_shape[1]):\n",
        "        print(f\" Node ({i},{j}): {weights[i,j]}\")\n"
      ],
      "metadata": {
        "colab": {
          "base_uri": "https://localhost:8080/"
        },
        "id": "PmQvFrINq-vv",
        "outputId": "3d340b1e-6c83-4299-e1d5-1567bd42e67c"
      },
      "execution_count": 6,
      "outputs": [
        {
          "output_type": "stream",
          "name": "stdout",
          "text": [
            "\n",
            "📦 Final SOM Weights:\n",
            " Node (0,0): [0.61125353 0.46908599]\n",
            " Node (0,1): [0.81502076 0.3537324 ]\n",
            " Node (1,0): [0.16737877 0.61891238]\n",
            " Node (1,1): [0.58770158 0.45971089]\n"
          ]
        }
      ]
    },
    {
      "cell_type": "markdown",
      "source": [
        "### Assign Each Input to Its BMU"
      ],
      "metadata": {
        "id": "_QD1jsCJ1-QR"
      }
    },
    {
      "cell_type": "code",
      "source": [
        "# Step: map each input sample to a SOM node (its BMU)\n",
        "sample_to_bmu = []\n",
        "\n",
        "for sample in data:\n",
        "    bmu_idx = None\n",
        "    min_dist = float('inf')\n",
        "    for i in range(grid_shape[0]):\n",
        "        for j in range(grid_shape[1]):\n",
        "            dist = euclidean(sample, weights[i, j])\n",
        "            if dist < min_dist:\n",
        "                min_dist = dist\n",
        "                bmu_idx = (i, j)\n",
        "    sample_to_bmu.append(bmu_idx)\n"
      ],
      "metadata": {
        "id": "6yRBSGNb14sg"
      },
      "execution_count": 7,
      "outputs": []
    },
    {
      "cell_type": "markdown",
      "source": [
        "### Plot SOM Grid and Assignments (Cluster View)"
      ],
      "metadata": {
        "id": "MYzy2Iuo2Ale"
      }
    },
    {
      "cell_type": "code",
      "source": [
        "import matplotlib.pyplot as plt\n",
        "from matplotlib import cm\n",
        "\n",
        "fig, ax = plt.subplots(figsize=(6, 6))\n",
        "\n",
        "# Plot SOM nodes\n",
        "for i in range(grid_shape[0]):\n",
        "    for j in range(grid_shape[1]):\n",
        "        w = weights[i, j]\n",
        "        ax.scatter(w[0], w[1], marker='s', s=300, color='gray', edgecolors='black')\n",
        "        ax.text(w[0], w[1], f'({i},{j})', fontsize=9, ha='center', va='center', color='white')\n",
        "\n",
        "# Plot input samples and their BMU connections\n",
        "colors = cm.tab10(np.linspace(0, 1, len(data)))\n",
        "for idx, (sample, bmu) in enumerate(zip(data, sample_to_bmu)):\n",
        "    bmu_weight = weights[bmu]\n",
        "    ax.plot([sample[0], bmu_weight[0]], [sample[1], bmu_weight[1]], 'k--', linewidth=0.5)\n",
        "    ax.scatter(sample[0], sample[1], color=colors[idx], label=f'Sample {idx+1}')\n",
        "    ax.text(sample[0], sample[1], f'{idx+1}', fontsize=8, ha='right')\n",
        "\n",
        "ax.set_xlim(0, 1)\n",
        "ax.set_ylim(0, 1)\n",
        "ax.set_title(\"🔍 SOM Clustering: Samples → BMUs\")\n",
        "ax.set_xlabel(\"Feature 1\")\n",
        "ax.set_ylabel(\"Feature 2\")\n",
        "ax.grid(True)\n",
        "ax.legend()\n",
        "plt.show()\n"
      ],
      "metadata": {
        "colab": {
          "base_uri": "https://localhost:8080/",
          "height": 619
        },
        "id": "AXiXEW5T15ex",
        "outputId": "d9eea5bd-ebb0-496d-cd6c-7211eb8feb60"
      },
      "execution_count": 8,
      "outputs": [
        {
          "output_type": "stream",
          "name": "stderr",
          "text": [
            "/usr/local/lib/python3.11/dist-packages/IPython/core/pylabtools.py:151: UserWarning: Glyph 128269 (\\N{LEFT-POINTING MAGNIFYING GLASS}) missing from font(s) DejaVu Sans.\n",
            "  fig.canvas.print_figure(bytes_io, **kw)\n"
          ]
        },
        {
          "output_type": "display_data",
          "data": {
            "text/plain": [
              "<Figure size 600x600 with 1 Axes>"
            ],
            "image/png": "[encoded data removed]"
          },
          "metadata": {}
        }
      ]
    }
  ]
}